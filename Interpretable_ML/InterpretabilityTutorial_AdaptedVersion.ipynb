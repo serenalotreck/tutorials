{
 "cells": [
  {
   "cell_type": "markdown",
   "metadata": {},
   "source": [
    "# Interpretable Machine Leaning with Python\n",
    "Adapted from [this tutorial](http://savvastjortjoglou.com/intrepretable-machine-learning-nfl-combine.html#PDP-and-ICE-plots) by Savvas Tjortjoglou <br>\n",
    "\n",
    "In this tutorial, you will:\n",
    "1. Train a Random Forest Regression model on data about football players\n",
    "2. Learn about Mean Decrease Impurity, Mean Decrease Accuracy  importance, and how to apply them to the model\n",
    "3. Learn how to evaluate and interpret feature contributions globally, and for single instances (decision paths), and various methods to visualize contributions"
   ]
  },
  {
   "cell_type": "markdown",
   "metadata": {},
   "source": [
    "## 1. Train a Random Forest Regression Model"
   ]
  },
  {
   "cell_type": "markdown",
   "metadata": {},
   "source": [
    "Steps: <br>\n",
    "A. Create a conda environment with the packages we need (for whole tutorial) <br>\n",
    "B. Import packages (for whole tutorial)<br>\n",
    "C. Load in and subset the data we want to use in our model <br>\n",
    "D. Split training and testing data <br>\n",
    "E. Build the model <br>\n",
    "F. Tune model parameters and train <br>\n",
    "G. Apply model to test data and evaluate <br>"
   ]
  },
  {
   "cell_type": "markdown",
   "metadata": {},
   "source": [
    "### A. Create conda Environment"
   ]
  },
  {
   "cell_type": "code",
   "execution_count": 1,
   "metadata": {},
   "outputs": [],
   "source": [
    "#### Install in conda environment\n",
    "# conda install -c conda-forge -c ets skll\n",
    "# conda install -c conda-forge scikit-optimize\n",
    "# conda install -c conda-forge tqdm \n",
    "# conda install -c conda-forge eli5\n",
    "# conda install -c conda-forge graphviz \n",
    "# conda install -c conda-forge pydotplus\n",
    "# pip install treeinterpreter\n",
    "# pip install pycebox\n",
    "# conda install -c conda-forge pdpbox \n",
    "# conda install -c conda-forge xgboost <-- failed for Shinhan, worked for Serena \n",
    "# pip install xgboost <-- failed for Serena, worked for Shinhan\n",
    "# conda install -c conda-forge lime \n",
    "# conda install -c conda-forge shap"
   ]
  },
  {
   "cell_type": "markdown",
   "metadata": {},
   "source": [
    "### B. Import packages"
   ]
  },
  {
   "cell_type": "code",
   "execution_count": 2,
   "metadata": {},
   "outputs": [],
   "source": [
    "%matplotlib inline\n",
    "\n",
    "import matplotlib.pyplot as plt\n",
    "import seaborn as sns\n",
    "import numpy as np\n",
    "import pandas as pd"
   ]
  },
  {
   "cell_type": "code",
   "execution_count": 3,
   "metadata": {},
   "outputs": [],
   "source": [
    "from sklearn.impute import SimpleImputer # this package is called scikit-learn\n",
    "from sklearn.model_selection import  cross_val_score\n",
    "from sklearn.pipeline import Pipeline\n",
    "from sklearn.metrics import make_scorer\n",
    "from sklearn.ensemble import RandomForestRegressor"
   ]
  },
  {
   "cell_type": "code",
   "execution_count": 4,
   "metadata": {},
   "outputs": [],
   "source": [
    "from skopt import BayesSearchCV # this package is called scikit-optimize\n",
    "from skopt.space import Real, Categorical, Integer"
   ]
  },
  {
   "cell_type": "code",
   "execution_count": 5,
   "metadata": {},
   "outputs": [],
   "source": [
    "# set up the aesthetic for the plots in this notebook\n",
    "sns.set(style=\"white\", palette=\"colorblind\", font_scale=1.2, \n",
    "        rc={\"figure.figsize\":(8,6)})"
   ]
  },
  {
   "cell_type": "markdown",
   "metadata": {},
   "source": [
    "### C. Load in and subset data"
   ]
  },
  {
   "cell_type": "markdown",
   "metadata": {},
   "source": [
    "In this tutorial, we're trying to predict the 'Approximate Value' (AV) of football players: an explanation can be found [here](https://www.pro-football-reference.com/about/glossary.htm). We are doing this using a dataset where instances are individual players, and there are various performance metrics for each player, which we will later use as features in our model."
   ]
  },
  {
   "cell_type": "code",
   "execution_count": 6,
   "metadata": {},
   "outputs": [
    {
     "data": {
      "text/html": [
       "<div>\n",
       "<style scoped>\n",
       "    .dataframe tbody tr th:only-of-type {\n",
       "        vertical-align: middle;\n",
       "    }\n",
       "\n",
       "    .dataframe tbody tr th {\n",
       "        vertical-align: top;\n",
       "    }\n",
       "\n",
       "    .dataframe thead th {\n",
       "        text-align: right;\n",
       "    }\n",
       "</style>\n",
       "<table border=\"1\" class=\"dataframe\">\n",
       "  <thead>\n",
       "    <tr style=\"text-align: right;\">\n",
       "      <th></th>\n",
       "      <th>Player</th>\n",
       "      <th>Pos</th>\n",
       "      <th>Ht</th>\n",
       "      <th>Wt</th>\n",
       "      <th>Forty</th>\n",
       "      <th>Vertical</th>\n",
       "      <th>BenchReps</th>\n",
       "      <th>BroadJump</th>\n",
       "      <th>Cone</th>\n",
       "      <th>Shuttle</th>\n",
       "      <th>Year</th>\n",
       "      <th>Pfr_ID</th>\n",
       "      <th>AV</th>\n",
       "      <th>Team</th>\n",
       "      <th>Round</th>\n",
       "      <th>Pick</th>\n",
       "    </tr>\n",
       "  </thead>\n",
       "  <tbody>\n",
       "    <tr>\n",
       "      <th>0</th>\n",
       "      <td>John Abraham</td>\n",
       "      <td>OLB</td>\n",
       "      <td>76</td>\n",
       "      <td>252</td>\n",
       "      <td>4.55</td>\n",
       "      <td>NaN</td>\n",
       "      <td>NaN</td>\n",
       "      <td>NaN</td>\n",
       "      <td>NaN</td>\n",
       "      <td>NaN</td>\n",
       "      <td>2000</td>\n",
       "      <td>AbraJo00</td>\n",
       "      <td>26.0</td>\n",
       "      <td>New York Jets</td>\n",
       "      <td>1.0</td>\n",
       "      <td>13.0</td>\n",
       "    </tr>\n",
       "    <tr>\n",
       "      <th>1</th>\n",
       "      <td>Shaun Alexander</td>\n",
       "      <td>RB</td>\n",
       "      <td>72</td>\n",
       "      <td>218</td>\n",
       "      <td>4.58</td>\n",
       "      <td>NaN</td>\n",
       "      <td>NaN</td>\n",
       "      <td>NaN</td>\n",
       "      <td>NaN</td>\n",
       "      <td>NaN</td>\n",
       "      <td>2000</td>\n",
       "      <td>AlexSh00</td>\n",
       "      <td>26.0</td>\n",
       "      <td>Seattle Seahawks</td>\n",
       "      <td>1.0</td>\n",
       "      <td>19.0</td>\n",
       "    </tr>\n",
       "    <tr>\n",
       "      <th>2</th>\n",
       "      <td>Darnell Alford</td>\n",
       "      <td>OT</td>\n",
       "      <td>76</td>\n",
       "      <td>334</td>\n",
       "      <td>5.56</td>\n",
       "      <td>25.0</td>\n",
       "      <td>23.0</td>\n",
       "      <td>94.0</td>\n",
       "      <td>8.48</td>\n",
       "      <td>4.98</td>\n",
       "      <td>2000</td>\n",
       "      <td>AlfoDa20</td>\n",
       "      <td>0.0</td>\n",
       "      <td>Kansas City Chiefs</td>\n",
       "      <td>6.0</td>\n",
       "      <td>188.0</td>\n",
       "    </tr>\n",
       "    <tr>\n",
       "      <th>3</th>\n",
       "      <td>Kyle Allamon</td>\n",
       "      <td>TE</td>\n",
       "      <td>74</td>\n",
       "      <td>253</td>\n",
       "      <td>4.97</td>\n",
       "      <td>29.0</td>\n",
       "      <td>NaN</td>\n",
       "      <td>104.0</td>\n",
       "      <td>7.29</td>\n",
       "      <td>4.49</td>\n",
       "      <td>2000</td>\n",
       "      <td>NaN</td>\n",
       "      <td>0.0</td>\n",
       "      <td>NaN</td>\n",
       "      <td>NaN</td>\n",
       "      <td>NaN</td>\n",
       "    </tr>\n",
       "    <tr>\n",
       "      <th>4</th>\n",
       "      <td>Rashard Anderson</td>\n",
       "      <td>CB</td>\n",
       "      <td>74</td>\n",
       "      <td>206</td>\n",
       "      <td>4.55</td>\n",
       "      <td>34.0</td>\n",
       "      <td>NaN</td>\n",
       "      <td>123.0</td>\n",
       "      <td>7.18</td>\n",
       "      <td>4.15</td>\n",
       "      <td>2000</td>\n",
       "      <td>AndeRa21</td>\n",
       "      <td>6.0</td>\n",
       "      <td>Carolina Panthers</td>\n",
       "      <td>1.0</td>\n",
       "      <td>23.0</td>\n",
       "    </tr>\n",
       "  </tbody>\n",
       "</table>\n",
       "</div>"
      ],
      "text/plain": [
       "             Player  Pos  Ht   Wt  Forty  Vertical  BenchReps  BroadJump  \\\n",
       "0      John Abraham  OLB  76  252   4.55       NaN        NaN        NaN   \n",
       "1   Shaun Alexander   RB  72  218   4.58       NaN        NaN        NaN   \n",
       "2    Darnell Alford   OT  76  334   5.56      25.0       23.0       94.0   \n",
       "3      Kyle Allamon   TE  74  253   4.97      29.0        NaN      104.0   \n",
       "4  Rashard Anderson   CB  74  206   4.55      34.0        NaN      123.0   \n",
       "\n",
       "   Cone  Shuttle  Year    Pfr_ID    AV                Team  Round   Pick  \n",
       "0   NaN      NaN  2000  AbraJo00  26.0       New York Jets    1.0   13.0  \n",
       "1   NaN      NaN  2000  AlexSh00  26.0    Seattle Seahawks    1.0   19.0  \n",
       "2  8.48     4.98  2000  AlfoDa20   0.0  Kansas City Chiefs    6.0  188.0  \n",
       "3  7.29     4.49  2000       NaN   0.0                 NaN    NaN    NaN  \n",
       "4  7.18     4.15  2000  AndeRa21   6.0   Carolina Panthers    1.0   23.0  "
      ]
     },
     "execution_count": 6,
     "metadata": {},
     "output_type": "execute_result"
    }
   ],
   "source": [
    "# read in the data: modify path if data isn't in currend working directory\n",
    "data_df = pd.read_csv('combine_data_since_2000_PROCESSED_2018-04-26.csv')\n",
    "\n",
    "# make a subset of players that have been in the league for 3+ years, we will use this for our model\n",
    "data_df2 = data_df.loc[data_df.Year <= 2015].copy()\n",
    "data_df2.head()"
   ]
  },
  {
   "cell_type": "code",
   "execution_count": 7,
   "metadata": {},
   "outputs": [
    {
     "data": {
      "text/html": [
       "<div>\n",
       "<style scoped>\n",
       "    .dataframe tbody tr th:only-of-type {\n",
       "        vertical-align: middle;\n",
       "    }\n",
       "\n",
       "    .dataframe tbody tr th {\n",
       "        vertical-align: top;\n",
       "    }\n",
       "\n",
       "    .dataframe thead th {\n",
       "        text-align: right;\n",
       "    }\n",
       "</style>\n",
       "<table border=\"1\" class=\"dataframe\">\n",
       "  <thead>\n",
       "    <tr style=\"text-align: right;\">\n",
       "      <th></th>\n",
       "      <th>Player</th>\n",
       "      <th>Pos</th>\n",
       "      <th>Ht</th>\n",
       "      <th>Wt</th>\n",
       "      <th>Forty</th>\n",
       "      <th>Vertical</th>\n",
       "      <th>BenchReps</th>\n",
       "      <th>BroadJump</th>\n",
       "      <th>Cone</th>\n",
       "      <th>Shuttle</th>\n",
       "      <th>Year</th>\n",
       "      <th>Pfr_ID</th>\n",
       "      <th>AV</th>\n",
       "      <th>Team</th>\n",
       "      <th>Round</th>\n",
       "      <th>Pick</th>\n",
       "      <th>AV_pctile</th>\n",
       "    </tr>\n",
       "  </thead>\n",
       "  <tbody>\n",
       "    <tr>\n",
       "      <th>0</th>\n",
       "      <td>John Abraham</td>\n",
       "      <td>OLB</td>\n",
       "      <td>76</td>\n",
       "      <td>252</td>\n",
       "      <td>4.55</td>\n",
       "      <td>NaN</td>\n",
       "      <td>NaN</td>\n",
       "      <td>NaN</td>\n",
       "      <td>NaN</td>\n",
       "      <td>NaN</td>\n",
       "      <td>2000</td>\n",
       "      <td>AbraJo00</td>\n",
       "      <td>26.0</td>\n",
       "      <td>New York Jets</td>\n",
       "      <td>1.0</td>\n",
       "      <td>13.0</td>\n",
       "      <td>0.951482</td>\n",
       "    </tr>\n",
       "    <tr>\n",
       "      <th>1</th>\n",
       "      <td>Shaun Alexander</td>\n",
       "      <td>RB</td>\n",
       "      <td>72</td>\n",
       "      <td>218</td>\n",
       "      <td>4.58</td>\n",
       "      <td>NaN</td>\n",
       "      <td>NaN</td>\n",
       "      <td>NaN</td>\n",
       "      <td>NaN</td>\n",
       "      <td>NaN</td>\n",
       "      <td>2000</td>\n",
       "      <td>AlexSh00</td>\n",
       "      <td>26.0</td>\n",
       "      <td>Seattle Seahawks</td>\n",
       "      <td>1.0</td>\n",
       "      <td>19.0</td>\n",
       "      <td>0.936123</td>\n",
       "    </tr>\n",
       "    <tr>\n",
       "      <th>2</th>\n",
       "      <td>Darnell Alford</td>\n",
       "      <td>OT</td>\n",
       "      <td>76</td>\n",
       "      <td>334</td>\n",
       "      <td>5.56</td>\n",
       "      <td>25.0</td>\n",
       "      <td>23.0</td>\n",
       "      <td>94.0</td>\n",
       "      <td>8.48</td>\n",
       "      <td>4.98</td>\n",
       "      <td>2000</td>\n",
       "      <td>AlfoDa20</td>\n",
       "      <td>0.0</td>\n",
       "      <td>Kansas City Chiefs</td>\n",
       "      <td>6.0</td>\n",
       "      <td>188.0</td>\n",
       "      <td>0.002611</td>\n",
       "    </tr>\n",
       "    <tr>\n",
       "      <th>3</th>\n",
       "      <td>Kyle Allamon</td>\n",
       "      <td>TE</td>\n",
       "      <td>74</td>\n",
       "      <td>253</td>\n",
       "      <td>4.97</td>\n",
       "      <td>29.0</td>\n",
       "      <td>NaN</td>\n",
       "      <td>104.0</td>\n",
       "      <td>7.29</td>\n",
       "      <td>4.49</td>\n",
       "      <td>2000</td>\n",
       "      <td>NaN</td>\n",
       "      <td>0.0</td>\n",
       "      <td>NaN</td>\n",
       "      <td>NaN</td>\n",
       "      <td>NaN</td>\n",
       "      <td>0.003509</td>\n",
       "    </tr>\n",
       "    <tr>\n",
       "      <th>4</th>\n",
       "      <td>Rashard Anderson</td>\n",
       "      <td>CB</td>\n",
       "      <td>74</td>\n",
       "      <td>206</td>\n",
       "      <td>4.55</td>\n",
       "      <td>34.0</td>\n",
       "      <td>NaN</td>\n",
       "      <td>123.0</td>\n",
       "      <td>7.18</td>\n",
       "      <td>4.15</td>\n",
       "      <td>2000</td>\n",
       "      <td>AndeRa21</td>\n",
       "      <td>6.0</td>\n",
       "      <td>Carolina Panthers</td>\n",
       "      <td>1.0</td>\n",
       "      <td>23.0</td>\n",
       "      <td>0.630058</td>\n",
       "    </tr>\n",
       "  </tbody>\n",
       "</table>\n",
       "</div>"
      ],
      "text/plain": [
       "             Player  Pos  Ht   Wt  Forty  Vertical  BenchReps  BroadJump  \\\n",
       "0      John Abraham  OLB  76  252   4.55       NaN        NaN        NaN   \n",
       "1   Shaun Alexander   RB  72  218   4.58       NaN        NaN        NaN   \n",
       "2    Darnell Alford   OT  76  334   5.56      25.0       23.0       94.0   \n",
       "3      Kyle Allamon   TE  74  253   4.97      29.0        NaN      104.0   \n",
       "4  Rashard Anderson   CB  74  206   4.55      34.0        NaN      123.0   \n",
       "\n",
       "   Cone  Shuttle  Year    Pfr_ID    AV                Team  Round   Pick  \\\n",
       "0   NaN      NaN  2000  AbraJo00  26.0       New York Jets    1.0   13.0   \n",
       "1   NaN      NaN  2000  AlexSh00  26.0    Seattle Seahawks    1.0   19.0   \n",
       "2  8.48     4.98  2000  AlfoDa20   0.0  Kansas City Chiefs    6.0  188.0   \n",
       "3  7.29     4.49  2000       NaN   0.0                 NaN    NaN    NaN   \n",
       "4  7.18     4.15  2000  AndeRa21   6.0   Carolina Panthers    1.0   23.0   \n",
       "\n",
       "   AV_pctile  \n",
       "0   0.951482  \n",
       "1   0.936123  \n",
       "2   0.002611  \n",
       "3   0.003509  \n",
       "4   0.630058  "
      ]
     },
     "execution_count": 7,
     "metadata": {},
     "output_type": "execute_result"
    }
   ],
   "source": [
    "# calculate the player AV percentiles by position\n",
    "data_df2['AV_pctile'] = (data_df2.groupby('Pos').AV.rank(pct=True,\n",
    "                                                         method='min', \n",
    "                                                         ascending=True))\n",
    "data_df2.head()"
   ]
  },
  {
   "cell_type": "code",
   "execution_count": 8,
   "metadata": {},
   "outputs": [
    {
     "data": {
      "text/html": [
       "<div>\n",
       "<style scoped>\n",
       "    .dataframe tbody tr th:only-of-type {\n",
       "        vertical-align: middle;\n",
       "    }\n",
       "\n",
       "    .dataframe tbody tr th {\n",
       "        vertical-align: top;\n",
       "    }\n",
       "\n",
       "    .dataframe thead th {\n",
       "        text-align: right;\n",
       "    }\n",
       "</style>\n",
       "<table border=\"1\" class=\"dataframe\">\n",
       "  <thead>\n",
       "    <tr style=\"text-align: right;\">\n",
       "      <th></th>\n",
       "      <th>Player</th>\n",
       "      <th>Pos</th>\n",
       "      <th>Ht</th>\n",
       "      <th>Wt</th>\n",
       "      <th>Forty</th>\n",
       "      <th>Vertical</th>\n",
       "      <th>BenchReps</th>\n",
       "      <th>BroadJump</th>\n",
       "      <th>Cone</th>\n",
       "      <th>Shuttle</th>\n",
       "      <th>Year</th>\n",
       "      <th>Pfr_ID</th>\n",
       "      <th>AV</th>\n",
       "      <th>Team</th>\n",
       "      <th>Round</th>\n",
       "      <th>Pick</th>\n",
       "      <th>AV_pctile</th>\n",
       "    </tr>\n",
       "  </thead>\n",
       "  <tbody>\n",
       "    <tr>\n",
       "      <th>0</th>\n",
       "      <td>Michael Boireau</td>\n",
       "      <td>DE</td>\n",
       "      <td>76</td>\n",
       "      <td>274</td>\n",
       "      <td>5.09</td>\n",
       "      <td>29.0</td>\n",
       "      <td>26.0</td>\n",
       "      <td>105.0</td>\n",
       "      <td>7.68</td>\n",
       "      <td>4.49</td>\n",
       "      <td>2000</td>\n",
       "      <td>NaN</td>\n",
       "      <td>0.0</td>\n",
       "      <td>NaN</td>\n",
       "      <td>NaN</td>\n",
       "      <td>NaN</td>\n",
       "      <td>0.002427</td>\n",
       "    </tr>\n",
       "    <tr>\n",
       "      <th>1</th>\n",
       "      <td>Courtney Brown</td>\n",
       "      <td>DE</td>\n",
       "      <td>77</td>\n",
       "      <td>269</td>\n",
       "      <td>4.78</td>\n",
       "      <td>NaN</td>\n",
       "      <td>NaN</td>\n",
       "      <td>NaN</td>\n",
       "      <td>NaN</td>\n",
       "      <td>NaN</td>\n",
       "      <td>2000</td>\n",
       "      <td>BrowCo22</td>\n",
       "      <td>16.0</td>\n",
       "      <td>Cleveland Browns</td>\n",
       "      <td>1.0</td>\n",
       "      <td>1.0</td>\n",
       "      <td>0.871359</td>\n",
       "    </tr>\n",
       "    <tr>\n",
       "      <th>2</th>\n",
       "      <td>Lamont Bryant</td>\n",
       "      <td>DE</td>\n",
       "      <td>75</td>\n",
       "      <td>260</td>\n",
       "      <td>4.91</td>\n",
       "      <td>NaN</td>\n",
       "      <td>17.0</td>\n",
       "      <td>NaN</td>\n",
       "      <td>NaN</td>\n",
       "      <td>NaN</td>\n",
       "      <td>2000</td>\n",
       "      <td>BryaLa00</td>\n",
       "      <td>0.0</td>\n",
       "      <td>NaN</td>\n",
       "      <td>NaN</td>\n",
       "      <td>NaN</td>\n",
       "      <td>0.002427</td>\n",
       "    </tr>\n",
       "    <tr>\n",
       "      <th>3</th>\n",
       "      <td>Leonardo Carson</td>\n",
       "      <td>DE</td>\n",
       "      <td>73</td>\n",
       "      <td>283</td>\n",
       "      <td>5.06</td>\n",
       "      <td>28.0</td>\n",
       "      <td>22.0</td>\n",
       "      <td>106.0</td>\n",
       "      <td>7.82</td>\n",
       "      <td>4.75</td>\n",
       "      <td>2000</td>\n",
       "      <td>CarsLe20</td>\n",
       "      <td>10.0</td>\n",
       "      <td>San Diego Chargers</td>\n",
       "      <td>4.0</td>\n",
       "      <td>113.0</td>\n",
       "      <td>0.730583</td>\n",
       "    </tr>\n",
       "    <tr>\n",
       "      <th>4</th>\n",
       "      <td>Rameel Connor</td>\n",
       "      <td>DE</td>\n",
       "      <td>75</td>\n",
       "      <td>276</td>\n",
       "      <td>5.00</td>\n",
       "      <td>35.5</td>\n",
       "      <td>25.0</td>\n",
       "      <td>121.0</td>\n",
       "      <td>7.65</td>\n",
       "      <td>4.45</td>\n",
       "      <td>2000</td>\n",
       "      <td>NaN</td>\n",
       "      <td>0.0</td>\n",
       "      <td>NaN</td>\n",
       "      <td>NaN</td>\n",
       "      <td>NaN</td>\n",
       "      <td>0.002427</td>\n",
       "    </tr>\n",
       "  </tbody>\n",
       "</table>\n",
       "</div>"
      ],
      "text/plain": [
       "            Player Pos  Ht   Wt  Forty  Vertical  BenchReps  BroadJump  Cone  \\\n",
       "0  Michael Boireau  DE  76  274   5.09      29.0       26.0      105.0  7.68   \n",
       "1   Courtney Brown  DE  77  269   4.78       NaN        NaN        NaN   NaN   \n",
       "2    Lamont Bryant  DE  75  260   4.91       NaN       17.0        NaN   NaN   \n",
       "3  Leonardo Carson  DE  73  283   5.06      28.0       22.0      106.0  7.82   \n",
       "4    Rameel Connor  DE  75  276   5.00      35.5       25.0      121.0  7.65   \n",
       "\n",
       "   Shuttle  Year    Pfr_ID    AV                Team  Round   Pick  AV_pctile  \n",
       "0     4.49  2000       NaN   0.0                 NaN    NaN    NaN   0.002427  \n",
       "1      NaN  2000  BrowCo22  16.0    Cleveland Browns    1.0    1.0   0.871359  \n",
       "2      NaN  2000  BryaLa00   0.0                 NaN    NaN    NaN   0.002427  \n",
       "3     4.75  2000  CarsLe20  10.0  San Diego Chargers    4.0  113.0   0.730583  \n",
       "4     4.45  2000       NaN   0.0                 NaN    NaN    NaN   0.002427  "
      ]
     },
     "execution_count": 8,
     "metadata": {},
     "output_type": "execute_result"
    }
   ],
   "source": [
    "# Get the data for the football position we want, in this case it's DE \n",
    "pos_df = data_df2.loc[data_df2.Pos=='DE'].copy().reset_index(drop=True)\n",
    "pos_df.head()"
   ]
  },
  {
   "cell_type": "markdown",
   "metadata": {},
   "source": [
    "### D. Split testing and training data"
   ]
  },
  {
   "cell_type": "code",
   "execution_count": 9,
   "metadata": {},
   "outputs": [],
   "source": [
    "# Split the data into train and test sets\n",
    "train_df = pos_df.loc[pos_df.Year <= 2011]\n",
    "test_df  = pos_df.loc[pos_df.Year.isin([2012, 2013, 2014, 2015])]"
   ]
  },
  {
   "cell_type": "markdown",
   "metadata": {},
   "source": [
    "### E. Build the model"
   ]
  },
  {
   "cell_type": "code",
   "execution_count": 10,
   "metadata": {},
   "outputs": [],
   "source": [
    "# Get list of feature names\n",
    "features = ['Forty', 'Wt', 'Ht', 'Vertical', 'BenchReps', 'BroadJump', 'Cone', 'Shuttle']\n",
    "# define what we want to predict (label)\n",
    "target   = 'AV_pctile'\n",
    "\n",
    "# separate feature (X) and label (y) values from training set\n",
    "X = train_df[features].values\n",
    "y = train_df[target].values"
   ]
  },
  {
   "cell_type": "code",
   "execution_count": 11,
   "metadata": {
    "scrolled": true
   },
   "outputs": [
    {
     "name": "stdout",
     "output_type": "stream",
     "text": [
      "Feature values: [[  5.09 274.    76.    29.    26.   105.     7.68   4.49]\n",
      " [  4.78 269.    77.      nan    nan    nan    nan    nan]\n",
      " [  4.91 260.    75.      nan  17.      nan    nan    nan]\n",
      " [  5.06 283.    73.    28.    22.   106.     7.82   4.75]\n",
      " [  5.   276.    75.    35.5   25.   121.     7.65   4.45]]\n",
      "Label values: [0.00242718 0.87135922 0.00242718 0.73058252 0.00242718]\n"
     ]
    }
   ],
   "source": [
    "# What do X and y look like?\n",
    "print(\"Feature values: {}\".format(X[:5,:])) # this is a numpy array\n",
    "print(\"Label values: {}\".format(y[:5])) # this is a list"
   ]
  },
  {
   "cell_type": "markdown",
   "metadata": {},
   "source": [
    "--------------\n",
    "In this tutorial we're going to use scikit-learn's `Pipeline` object."
   ]
  },
  {
   "cell_type": "markdown",
   "metadata": {},
   "source": [
    "`Pipeline` is a method that combines a customizable number of steps in a machine learning pipeline into one. [This paper](https://arxiv.org/pdf/1309.0238.pdf) on scikit-learn's API has a good explanation of what `Pipeline` is, on page 8-9. A brief explanation with definitions (quotes are from the API paper):"
   ]
  },
  {
   "cell_type": "markdown",
   "metadata": {},
   "source": [
    "*Definitions (from the scikit-learn glossary):* <br>\n",
    "\n",
    "**estimator**:<br>\n",
    "An object which manages the estimation and decoding of a model. The model is estimated as a deterministic function of:\n",
    "- parameters provided in object construction or with set_params;\n",
    "- the global numpy.random random state if the estimator’s random_state parameter is set to None; and\n",
    "- any data or sample properties passed to the most recent call to fit, fit_transform or fit_predict, or data similarly passed in a sequence of calls to partial_fit.\n",
    "\n",
    "The estimated model is stored in public and private attributes on the estimator instance, facilitating decoding through prediction and transformation methods. <br>\n",
    "\n",
    "Estimators must provide a fit method, and should provide set_params and get_params, although these are usually provided by inheritance from base.BaseEstimator. <br>\n",
    "\n",
    "The core functionality of some estimators may also be available as a function. <br>\n",
    "\n",
    "**predictor**:<br>\n",
    "An estimator supporting predict and/or fit_predict. This encompasses classifier, regressor, outlier detector and clusterer.\n",
    "\n",
    "In statistics, “predictors” refers to features.\n",
    "\n",
    "**transformer**: <br>\n",
    "An estimator supporting transform and/or fit_transform. A purely transductive transformer, such as manifold.TSNE, may not implement transform.\n",
    "\n",
    "(Note: This is *not* the NLP deep learning method Transformer that works on sequence transduction. See post [here](https://towardsdatascience.com/custom-transformers-and-ml-data-pipelines-with-python-20ea2a7adb65))<br>\n",
    "\n",
    "An **imputer** is not in the glossary, but generally an imputer is anything that infers missing values from the data. \n"
   ]
  },
  {
   "cell_type": "markdown",
   "metadata": {},
   "source": [
    "*Explanation:*<br>\n",
    "`Pipeline` chains multiple estimators (transformers and predictors) together. \"A sequence of N such\n",
    "steps can be combined into a Pipeline if the first N − 1 steps are transformers;\n",
    "the last can be either a predictor, a transformer or both.\"<br>\n",
    "\n",
    "In other words, `Pipeline` is used to combine multiple steps in a machine learning pipeline into one, and this does not have to include the model itself; it can be used to pre-process data. The `Pipeline` acts as whatever its last step is. \"The pipeline exposes all the\n",
    "methods the last estimator in the pipe exposes. That is, if the last estimator is\n",
    "a predictor, the pipeline can itself be used as a predictor. If the last estimator is\n",
    "a transformer, then the pipeline is itself a transformer.\""
   ]
  },
  {
   "cell_type": "markdown",
   "metadata": {},
   "source": [
    "In this example, we're using the `Pipeline` object to encompass our imputer (used to impute the nan's we saw in the training data) and our predictor (the Random Forest Regression model)."
   ]
  },
  {
   "cell_type": "code",
   "execution_count": 12,
   "metadata": {},
   "outputs": [],
   "source": [
    "# make our pipeline for this model\n",
    "\n",
    "# Since we're using RF, need to define our random state\n",
    "# the RANDOM_STATE parameter for RF models is (from the scikit-optimize docs):\n",
    "# Pseudo random number generator state used for random uniform sampling from lists\n",
    "# of possible values instead of scipy.stats distributions\n",
    "RANDOM_STATE = 420 \n",
    "pipe = Pipeline([(\"imputer\", SimpleImputer()), \n",
    "                 (\"estimator\", RandomForestRegressor(random_state=RANDOM_STATE))])"
   ]
  },
  {
   "cell_type": "markdown",
   "metadata": {},
   "source": [
    "### E. Tune model parameters and train"
   ]
  },
  {
   "cell_type": "markdown",
   "metadata": {},
   "source": [
    "The **parameters** of a machine learning model are internal to the model, and optimal values are learned during the training process. However, machine learning models also have **hyperparameters**, or, parameters that are important to the model's performance, but can't be learned from the data (for example, how many trees should be in our random forest?). In order to choose the optimal hyperparameters, we can perform one of several methods."
   ]
  },
  {
   "cell_type": "markdown",
   "metadata": {},
   "source": [
    "**Grid Search**: Test every possible combination of hyperparameters. This is very intensive for most models.<br>\n",
    "**Random Search**: Randomly choose hyperparameters from a distribution. Has better and faster performance than Grid Search. Explanation of why random search is better can be found [here](https://medium.com/rants-on-machine-learning/smarter-parameter-sweeps-or-why-grid-search-is-plain-stupid-c17d97a0e881)<br>\n",
    "**Bayes Search**: Uses Bayesian optimization to search for hyperparameters. Better and faster than both the above methods. A detailed explanation can be found [here](https://towardsdatascience.com/automated-machine-learning-hyperparameter-tuning-in-python-dfda59b72f8a)<br>"
   ]
  },
  {
   "cell_type": "markdown",
   "metadata": {},
   "source": [
    "In this example, we'll use the `BayesSearchCV` method from scikit-optimize (Docs [here](https://scikit-optimize.github.io/stable/modules/generated/skopt.BayesSearchCV.html#skopt.BayesSearchCV\n",
    "))."
   ]
  },
  {
   "cell_type": "code",
   "execution_count": 13,
   "metadata": {},
   "outputs": [],
   "source": [
    "# first, define the parameter space over which to search \n",
    "rf_param_space = {\n",
    "    'imputer__strategy': Categorical(['mean', 'median', 'most_frequent']),\n",
    "    'estimator__max_features': Integer(1, 8),\n",
    "    'estimator__n_estimators': Integer(50, 500), \n",
    "    'estimator__min_samples_split': Integer(2, 200),\n",
    "}"
   ]
  },
  {
   "cell_type": "code",
   "execution_count": 14,
   "metadata": {},
   "outputs": [],
   "source": [
    "# next, we define a scoring function that will be used to evaluate the performance of the model with \n",
    "# various hyperparameters. r2 is Pearson's correlation coefficient.\n",
    "from sklearn.metrics import r2_score  \n",
    "r2 = make_scorer(r2_score)"
   ]
  },
  {
   "cell_type": "markdown",
   "metadata": {},
   "source": [
    "#### A note about make_scorer:\n",
    "From the docs:<br>\n",
    "You can generate even more flexible model scorers by constructing your own scoring object from scratch, without using the make_scorer factory. For a callable to be a scorer, it needs to meet the protocol specified by the following two rules:\n",
    "1. It can be called with parameters (estimator, X, y), where estimator is the model that should be evaluated, X is validation data, and y is the ground truth target for X (in the supervised case) or None (in the unsupervised case).\n",
    "2. It returns a floating point number that quantifies the estimator prediction quality on X, with reference to y. Again, by convention higher numbers are better, so if your scorer returns loss, that value should be negated.\n",
    "\n",
    "This is why, when we call r2 later on, we call it as: \n",
    "\n",
    "    r2(search, X, y)"
   ]
  },
  {
   "cell_type": "code",
   "execution_count": 15,
   "metadata": {},
   "outputs": [],
   "source": [
    "# create our Bayes search object using the Sklearn-Optimize package\n",
    "\n",
    "N_JOBS=8\n",
    "\n",
    "search = BayesSearchCV(pipe,                      # Estimator\n",
    "                       rf_param_space,            # Search_space\n",
    "                       cv=10,                     # Cross-validation generator or an iterable\n",
    "                       n_jobs=N_JOBS,             # Number of job run in parallel \n",
    "                       verbose=0, \n",
    "                       error_score=-9999,         # Value to assign to the score if an error occurs in estimator fitting.\n",
    "                       scoring=r2,                # Loss function\n",
    "                       random_state=RANDOM_STATE, # For random uniform sampling\n",
    "                       return_train_score=True,   # The cv_results_ attribute will include training scores.\n",
    "                       n_iter=10)                 # Number of parameter settings that are sampled.\n",
    "\n",
    "# n_iter is set very low in order to run the whole thing faster, would nnormally use much higher number."
   ]
  },
  {
   "cell_type": "markdown",
   "metadata": {},
   "source": [
    "What is the output of `BayesSearchCV( )`? i.e., what is in our object `search`? <br>\n",
    "\n",
    "*Attributes:* <br>\n",
    "**cv_results_**: dict of numpy (masked) ndarrays <br>\n",
    "A dict with keys as column headers and values as columns, that can be imported into a pandas DataFrame. <br>\n",
    "\n",
    "**best_estimator_**: estimator <br>\n",
    "Estimator that was chosen by the search, i.e. estimator which gave highest score (or smallest loss if specified) on the left out data. Not available if refit=False. <br>\n",
    "\n",
    "**best_score_** : float <br>\n",
    "Score of best_estimator_ on the left out data.<br>\n",
    "\n",
    "**best_params_**: dict <br>\n",
    "Parameter setting that gave the best results on the hold out data. <br>\n",
    "\n",
    "**best_index_**: int <br>\n",
    "The index (of the `cv_results_` arrays) which corresponds to the best candidate parameter setting. <br>\n",
    "\n",
    "The dict at `search.cv_results_['params'][search.best_index_]` gives the parameter setting for the best model, that gives the highest mean score (`search.best_score_`). <br>\n",
    "\n",
    "**scorer_**: function <br>\n",
    "Scorer function used on the held out data to choose the best parameters for the model. <br>\n",
    "\n",
    "**n_splits_**: int <br>\n",
    "The number of cross-validation splits (folds/iterations).<br>"
   ]
  },
  {
   "cell_type": "markdown",
   "metadata": {},
   "source": [
    "Class methods used in this tutorial: \n",
    "1. `fit(self,X,y,groups,callback)` : Run fit on the estimator with randomly drawn parameters. Only X and y are required, can provide group labels used while splitting the dataset into train/test. \n",
    "2. `predict(self,X)` : Call predict on the estimator with the best found parameters --> predicts labels/values for the provided instances."
   ]
  },
  {
   "cell_type": "code",
   "execution_count": 16,
   "metadata": {},
   "outputs": [
    {
     "data": {
      "text/plain": [
       "BayesSearchCV(cv=10, error_score=-9999,\n",
       "              estimator=Pipeline(memory=None,\n",
       "                                 steps=[('imputer',\n",
       "                                         SimpleImputer(add_indicator=False,\n",
       "                                                       copy=True,\n",
       "                                                       fill_value=None,\n",
       "                                                       missing_values=nan,\n",
       "                                                       strategy='mean',\n",
       "                                                       verbose=0)),\n",
       "                                        ('estimator',\n",
       "                                         RandomForestRegressor(bootstrap=True,\n",
       "                                                               ccp_alpha=0.0,\n",
       "                                                               criterion='mse',\n",
       "                                                               max_depth=None,\n",
       "                                                               max_features='auto',\n",
       "                                                               max_leaf_nodes=None,\n",
       "                                                               max_samples=None,\n",
       "                                                               min_...\n",
       "              search_spaces={'estimator__max_features': Integer(low=1, high=8, prior='uniform', transform='identity'),\n",
       "                             'estimator__min_samples_split': Integer(low=2, high=200, prior='uniform', transform='identity'),\n",
       "                             'estimator__n_estimators': Integer(low=50, high=500, prior='uniform', transform='identity'),\n",
       "                             'imputer__strategy': Categorical(categories=('mean', 'median', 'most_frequent'), prior=None)},\n",
       "              verbose=0)"
      ]
     },
     "execution_count": 16,
     "metadata": {},
     "output_type": "execute_result"
    }
   ],
   "source": [
    "# fit (train) the model \n",
    "# need to train the model before any of the following steps can be performed\n",
    "search.fit(X, y)"
   ]
  },
  {
   "cell_type": "code",
   "execution_count": 17,
   "metadata": {},
   "outputs": [
    {
     "data": {
      "text/plain": [
       "OrderedDict([('estimator__max_features', 6),\n",
       "             ('estimator__min_samples_split', 42),\n",
       "             ('estimator__n_estimators', 375),\n",
       "             ('imputer__strategy', 'most_frequent')])"
      ]
     },
     "execution_count": 17,
     "metadata": {},
     "output_type": "execute_result"
    }
   ],
   "source": [
    "# view best model parameters \n",
    "search.best_params_"
   ]
  },
  {
   "cell_type": "code",
   "execution_count": 18,
   "metadata": {},
   "outputs": [
    {
     "data": {
      "text/plain": [
       "0.1251275916733097"
      ]
     },
     "execution_count": 18,
     "metadata": {},
     "output_type": "execute_result"
    }
   ],
   "source": [
    "# view score of best_estimator on the left out data (i.e. how did the model perform?)\n",
    "# this is the score using the performance metric (scorer) that we provided to BayesSearchCV( ), here is r2\n",
    "search.best_score_"
   ]
  },
  {
   "cell_type": "markdown",
   "metadata": {},
   "source": [
    "**NOTE TO SELF** need to figure out what the \"left out\" data is, is this the best score of the cross validation splits, when the model is applied to the 10% that was left out (but that the model has already seen)?"
   ]
  },
  {
   "cell_type": "code",
   "execution_count": 19,
   "metadata": {
    "scrolled": false
   },
   "outputs": [
    {
     "data": {
      "text/html": [
       "<div>\n",
       "<style scoped>\n",
       "    .dataframe tbody tr th:only-of-type {\n",
       "        vertical-align: middle;\n",
       "    }\n",
       "\n",
       "    .dataframe tbody tr th {\n",
       "        vertical-align: top;\n",
       "    }\n",
       "\n",
       "    .dataframe thead th {\n",
       "        text-align: right;\n",
       "    }\n",
       "</style>\n",
       "<table border=\"1\" class=\"dataframe\">\n",
       "  <thead>\n",
       "    <tr style=\"text-align: right;\">\n",
       "      <th></th>\n",
       "      <th>split0_test_score</th>\n",
       "      <th>split1_test_score</th>\n",
       "      <th>split2_test_score</th>\n",
       "      <th>split3_test_score</th>\n",
       "      <th>split4_test_score</th>\n",
       "      <th>split5_test_score</th>\n",
       "      <th>split6_test_score</th>\n",
       "      <th>split7_test_score</th>\n",
       "      <th>split8_test_score</th>\n",
       "      <th>split9_test_score</th>\n",
       "      <th>...</th>\n",
       "      <th>mean_fit_time</th>\n",
       "      <th>std_fit_time</th>\n",
       "      <th>mean_score_time</th>\n",
       "      <th>std_score_time</th>\n",
       "      <th>param_estimator__max_features</th>\n",
       "      <th>param_estimator__min_samples_split</th>\n",
       "      <th>param_estimator__n_estimators</th>\n",
       "      <th>param_imputer__strategy</th>\n",
       "      <th>params</th>\n",
       "      <th>rank_train_score</th>\n",
       "    </tr>\n",
       "  </thead>\n",
       "  <tbody>\n",
       "    <tr>\n",
       "      <th>0</th>\n",
       "      <td>-0.054400</td>\n",
       "      <td>0.102235</td>\n",
       "      <td>0.101677</td>\n",
       "      <td>0.034888</td>\n",
       "      <td>0.054914</td>\n",
       "      <td>0.031297</td>\n",
       "      <td>0.135804</td>\n",
       "      <td>0.085493</td>\n",
       "      <td>0.092222</td>\n",
       "      <td>0.111375</td>\n",
       "      <td>...</td>\n",
       "      <td>2.437297</td>\n",
       "      <td>0.752533</td>\n",
       "      <td>0.125597</td>\n",
       "      <td>0.053873</td>\n",
       "      <td>5</td>\n",
       "      <td>142</td>\n",
       "      <td>287</td>\n",
       "      <td>median</td>\n",
       "      <td>{'estimator__max_features': 5, 'estimator__min...</td>\n",
       "      <td>8</td>\n",
       "    </tr>\n",
       "    <tr>\n",
       "      <th>1</th>\n",
       "      <td>-0.075334</td>\n",
       "      <td>0.181726</td>\n",
       "      <td>0.202825</td>\n",
       "      <td>0.058129</td>\n",
       "      <td>0.092091</td>\n",
       "      <td>0.000007</td>\n",
       "      <td>0.195300</td>\n",
       "      <td>0.134274</td>\n",
       "      <td>0.144350</td>\n",
       "      <td>0.158326</td>\n",
       "      <td>...</td>\n",
       "      <td>1.166556</td>\n",
       "      <td>0.381050</td>\n",
       "      <td>0.043203</td>\n",
       "      <td>0.015451</td>\n",
       "      <td>7</td>\n",
       "      <td>93</td>\n",
       "      <td>137</td>\n",
       "      <td>mean</td>\n",
       "      <td>{'estimator__max_features': 7, 'estimator__min...</td>\n",
       "      <td>5</td>\n",
       "    </tr>\n",
       "    <tr>\n",
       "      <th>2</th>\n",
       "      <td>-0.059033</td>\n",
       "      <td>0.124095</td>\n",
       "      <td>0.165521</td>\n",
       "      <td>0.064966</td>\n",
       "      <td>0.095709</td>\n",
       "      <td>-0.004723</td>\n",
       "      <td>0.130411</td>\n",
       "      <td>0.130675</td>\n",
       "      <td>0.116789</td>\n",
       "      <td>0.122949</td>\n",
       "      <td>...</td>\n",
       "      <td>1.452826</td>\n",
       "      <td>0.463123</td>\n",
       "      <td>0.059630</td>\n",
       "      <td>0.019863</td>\n",
       "      <td>7</td>\n",
       "      <td>117</td>\n",
       "      <td>231</td>\n",
       "      <td>most_frequent</td>\n",
       "      <td>{'estimator__max_features': 7, 'estimator__min...</td>\n",
       "      <td>6</td>\n",
       "    </tr>\n",
       "    <tr>\n",
       "      <th>3</th>\n",
       "      <td>-0.060937</td>\n",
       "      <td>0.233634</td>\n",
       "      <td>0.284892</td>\n",
       "      <td>0.048825</td>\n",
       "      <td>0.094346</td>\n",
       "      <td>-0.006292</td>\n",
       "      <td>0.241879</td>\n",
       "      <td>0.111467</td>\n",
       "      <td>0.132016</td>\n",
       "      <td>0.176489</td>\n",
       "      <td>...</td>\n",
       "      <td>2.350845</td>\n",
       "      <td>0.557823</td>\n",
       "      <td>0.090721</td>\n",
       "      <td>0.031507</td>\n",
       "      <td>6</td>\n",
       "      <td>42</td>\n",
       "      <td>375</td>\n",
       "      <td>most_frequent</td>\n",
       "      <td>{'estimator__max_features': 6, 'estimator__min...</td>\n",
       "      <td>1</td>\n",
       "    </tr>\n",
       "    <tr>\n",
       "      <th>4</th>\n",
       "      <td>-0.057614</td>\n",
       "      <td>0.110046</td>\n",
       "      <td>0.130069</td>\n",
       "      <td>0.048667</td>\n",
       "      <td>0.067302</td>\n",
       "      <td>0.022258</td>\n",
       "      <td>0.151105</td>\n",
       "      <td>0.092738</td>\n",
       "      <td>0.092853</td>\n",
       "      <td>0.114085</td>\n",
       "      <td>...</td>\n",
       "      <td>1.393059</td>\n",
       "      <td>0.366341</td>\n",
       "      <td>0.053019</td>\n",
       "      <td>0.021742</td>\n",
       "      <td>5</td>\n",
       "      <td>132</td>\n",
       "      <td>217</td>\n",
       "      <td>median</td>\n",
       "      <td>{'estimator__max_features': 5, 'estimator__min...</td>\n",
       "      <td>7</td>\n",
       "    </tr>\n",
       "  </tbody>\n",
       "</table>\n",
       "<p>5 rows × 35 columns</p>\n",
       "</div>"
      ],
      "text/plain": [
       "   split0_test_score  split1_test_score  split2_test_score  split3_test_score  \\\n",
       "0          -0.054400           0.102235           0.101677           0.034888   \n",
       "1          -0.075334           0.181726           0.202825           0.058129   \n",
       "2          -0.059033           0.124095           0.165521           0.064966   \n",
       "3          -0.060937           0.233634           0.284892           0.048825   \n",
       "4          -0.057614           0.110046           0.130069           0.048667   \n",
       "\n",
       "   split4_test_score  split5_test_score  split6_test_score  split7_test_score  \\\n",
       "0           0.054914           0.031297           0.135804           0.085493   \n",
       "1           0.092091           0.000007           0.195300           0.134274   \n",
       "2           0.095709          -0.004723           0.130411           0.130675   \n",
       "3           0.094346          -0.006292           0.241879           0.111467   \n",
       "4           0.067302           0.022258           0.151105           0.092738   \n",
       "\n",
       "   split8_test_score  split9_test_score  ...  mean_fit_time  std_fit_time  \\\n",
       "0           0.092222           0.111375  ...       2.437297      0.752533   \n",
       "1           0.144350           0.158326  ...       1.166556      0.381050   \n",
       "2           0.116789           0.122949  ...       1.452826      0.463123   \n",
       "3           0.132016           0.176489  ...       2.350845      0.557823   \n",
       "4           0.092853           0.114085  ...       1.393059      0.366341   \n",
       "\n",
       "   mean_score_time  std_score_time  param_estimator__max_features  \\\n",
       "0         0.125597        0.053873                              5   \n",
       "1         0.043203        0.015451                              7   \n",
       "2         0.059630        0.019863                              7   \n",
       "3         0.090721        0.031507                              6   \n",
       "4         0.053019        0.021742                              5   \n",
       "\n",
       "   param_estimator__min_samples_split  param_estimator__n_estimators  \\\n",
       "0                                 142                            287   \n",
       "1                                  93                            137   \n",
       "2                                 117                            231   \n",
       "3                                  42                            375   \n",
       "4                                 132                            217   \n",
       "\n",
       "   param_imputer__strategy                                             params  \\\n",
       "0                   median  {'estimator__max_features': 5, 'estimator__min...   \n",
       "1                     mean  {'estimator__max_features': 7, 'estimator__min...   \n",
       "2            most_frequent  {'estimator__max_features': 7, 'estimator__min...   \n",
       "3            most_frequent  {'estimator__max_features': 6, 'estimator__min...   \n",
       "4                   median  {'estimator__max_features': 5, 'estimator__min...   \n",
       "\n",
       "   rank_train_score  \n",
       "0                 8  \n",
       "1                 5  \n",
       "2                 6  \n",
       "3                 1  \n",
       "4                 7  \n",
       "\n",
       "[5 rows x 35 columns]"
      ]
     },
     "execution_count": 19,
     "metadata": {},
     "output_type": "execute_result"
    }
   ],
   "source": [
    "# View scores for training and testing of cross-validation splits \n",
    "searchResults = pd.DataFrame(search.cv_results_)\n",
    "searchResults.head()"
   ]
  },
  {
   "cell_type": "code",
   "execution_count": 20,
   "metadata": {
    "scrolled": true
   },
   "outputs": [
    {
     "data": {
      "text/plain": [
       "-0.031092927334830156"
      ]
     },
     "execution_count": 20,
     "metadata": {},
     "output_type": "execute_result"
    }
   ],
   "source": [
    "# now apply the model to the test data\n",
    "\n",
    "# define test set data\n",
    "X_test = test_df[features].values\n",
    "y_test = test_df[target].values\n",
    "\n",
    "# apply the model\n",
    "y_pred = search.predict(X_test)\n",
    "\n",
    "# evaluate performance on test data\n",
    "model_test_score = r2(search, X_test, y_test) \n",
    "model_test_score # why is this negative? Does this mean the model is really bad? Why is it so much worse on the test data?"
   ]
  },
  {
   "cell_type": "code",
   "execution_count": 21,
   "metadata": {},
   "outputs": [
    {
     "data": {
      "text/plain": [
       "(0.23099783203501978, 0.02355094844797427)"
      ]
     },
     "execution_count": 21,
     "metadata": {},
     "output_type": "execute_result"
    }
   ],
   "source": [
    "# test the correlation between ground truth and predicted values with pearson correlation coefficient (PCC)\n",
    "from scipy.stats import pearsonr\n",
    "pearsonr(y_test, y_pred) # returns (r, two-tailed p-value)"
   ]
  },
  {
   "cell_type": "markdown",
   "metadata": {},
   "source": [
    "**NOTE TO SELF**: why is this such a better score than r2? Shouldn't r2 be the same exact thing??"
   ]
  },
  {
   "cell_type": "markdown",
   "metadata": {},
   "source": [
    "## 2. Learn About Feature Importance Measures"
   ]
  },
  {
   "cell_type": "markdown",
   "metadata": {},
   "source": [
    "In this section you will learn about: <br>\n",
    "A. Gini impurity, and its regression counterpart <br>\n",
    "B. Mean Decrease Impurity, how it's calculated using A, and how to get it for our model. <br>\n",
    "C. Mean Decrease Accuracy, also known as Permutation Importance <br>\n",
    "D. Pros and cons of each method"
   ]
  },
  {
   "cell_type": "markdown",
   "metadata": {},
   "source": [
    "### A. Gini Impurity and Mean Square Error"
   ]
  },
  {
   "cell_type": "markdown",
   "metadata": {},
   "source": [
    "#### A.1 Gini Impurity\n",
    "Gini impurity is a measure of how good a given split is in a classification tree. First, let's review how classification trees work."
   ]
  },
  {
   "cell_type": "markdown",
   "metadata": {},
   "source": [
    "We start with the whole dataset. Each *instance* has some data associated with it; these data fall into groups called *features*. Each instance also has a *label* associated with it; this label represents the group to whcih the instance belongs. A classification tree aims to split the data in such a way that at the end, we have a separate group for each type of label. This splitting is done by using the information we have about each instance: the features. Consider the following example:\n",
    "\n",
    "![A decision tree that gives the reccomendation to go or not go to the store.](img/Classification.png)"
   ]
  },
  {
   "cell_type": "markdown",
   "metadata": {},
   "source": [
    "Our original dataset is hours of the day, during one week. The features associated with each hour are, Out Of Food?, Raining?, and Hungry?. By splitting the data based on what value they have for a certain feature, we can decide if an hour belongs to the category where we should go to the store, or not go to the store. The same logic applies if we're trying to classify things into categories."
   ]
  },
  {
   "cell_type": "markdown",
   "metadata": {},
   "source": [
    "So what does Gini impurity have to do with all this? Well, imagine that we're training a model to classify things using a decision tree. We could use different features at different nodes (these are called splits), and it would give us vastly different outcomes. Some versions of the tree are clearly better than others, because depending on which features we put where, we might mis-classify many instances. But what if we have lots of features, and it isn't intuitive which set of splits is better than another. "
   ]
  },
  {
   "cell_type": "markdown",
   "metadata": {},
   "source": [
    "Using the following figure, let's walk through a simple explanation of Gini impurity, adapted from [this post](https://victorzhou.com/blog/gini-impurity/).\n",
    "\n",
    "![A classification decision tree. 7 of 10 datapoints have arrived at node j, 5 red and 2 purple. The daughter nodes perfectly split the data, so one has 5 red dots and the other has 2 purple. 3 red dots are at the suster node to node j](img/Gini.png)"
   ]
  },
  {
   "cell_type": "markdown",
   "metadata": {},
   "source": [
    "Gini impurity is calculated for each split (also called a node). Imagine we want to calculate the Gini impurity of node $n_{j}$. The dots around each node represent the data points (instances) that have arrived to that node by following the previous splits in the tree. Here, purple and red represent the two different classes we're trying to classify. Our simple explanation is the following: for each split,\n",
    "\n",
    "1. Randomly pick a point within the split \n",
    "2. Randomly classify it according to the class distribution within that split (e.g. if there are 10 points, 5 from Class A and 5 from Class B, half the time we’d classify it as A, the other half B)\n",
    "3. Determine the probability that we classify the datapoint incorrectly. This is the Gini Impurity. \n"
   ]
  },
  {
   "cell_type": "markdown",
   "metadata": {},
   "source": [
    "This process is summarized in the following table for our example. First, we determine the probability each even occuring: choosing a point of that color (Step 1), and then classifying it correctly or incorrectly (Step 2). "
   ]
  },
  {
   "cell_type": "markdown",
   "metadata": {},
   "source": [
    "| Event | Classification| Math| Probability   |\n",
    "|:------:|:------:|:------:|:-----:|\n",
    "| Pick red, classify red | Correct|  $\\frac{5}{7}$ \\* $\\frac{5}{7}$| 0.51|\n",
    "| Pick red, classify purple | Incorrect| $\\frac{5}{7}$ \\* $\\frac{2}{7}$| 0.20 |\n",
    "| Pick purple, classify purple | Correct| $\\frac{2}{7}$ \\* $\\frac{2}{7}$| 0.08 |\n",
    "| Pick purple, classify red | Incorrect | $\\frac{2}{7}$ \\* $\\frac{5}{7}$| 0.20 |"
   ]
  },
  {
   "cell_type": "markdown",
   "metadata": {},
   "source": [
    "Then, we take the event probabilities for the incorrect classifications and add them together to get the Gini impurity (Step 3). \n",
    "\n",
    "$$\\textrm{Gini impurity for } n_{j} = 0.20+0.20=0.40$$"
   ]
  },
  {
   "cell_type": "markdown",
   "metadata": {},
   "source": [
    "That was possible for a simple example, but what about more complicated ones? Now let's talk about the mathematical definition of Gini impurity. <br>\n",
    "\n",
    "**Definition**: $$\\sum\\limits_{i=1}^C p(i)(1-p(i))$$\n",
    "\n",
    "where $p(i)$ is the probability of picking a datapoint with class $i$, and $C$ is the total number of classes. \n",
    "\n"
   ]
  },
  {
   "cell_type": "markdown",
   "metadata": {},
   "source": [
    "If we use our example above with this formula: \n",
    "\n",
    "$$p(red)(1-p(red)) + p(purple)(1-p(purple))$$\n",
    "$$\\frac{5}{7}(1-\\frac{5}{7})) + \\frac{2}{7}(1-\\frac{2}{7}))$$\n",
    "$$0.20+0.20$$\n",
    "$$0.40$$"
   ]
  },
  {
   "cell_type": "markdown",
   "metadata": {},
   "source": [
    "As you can see, we get the same result with this formula!"
   ]
  },
  {
   "cell_type": "markdown",
   "metadata": {},
   "source": [
    "Intuitively, what is Gini impurity? It's the probability of classifying something incorrectly at a given node. So the lower the impurity, the better we are at making predictions at that node."
   ]
  },
  {
   "cell_type": "markdown",
   "metadata": {},
   "source": [
    "#### A.2 Impurity for regressions\n",
    "As you can see, this method only works if we are working with a classification problem. What about regressions?"
   ]
  },
  {
   "cell_type": "markdown",
   "metadata": {},
   "source": [
    "First, let's review how regression trees work. This section is adapted from [this absolutely wonderful lecture](http://www.stat.cmu.edu/~cshalizi/350-2006/lecture-10.pdf). <br>\n",
    "\n",
    "In a linear regression, we fit one model (predictive formula) over the entire data-space. However, if the data has lots of features which interact in complicated, nonlinear ways, it’s very difficult to fit a good linear model, and because of all the terms you would have to add to the equation in order to get a fit over the whole data space, the resulting model is extraordinarily complicated and uninterpretable. <br>\n",
    "\n",
    "Therefore, we can do something called recursive partitioning. Instead of fitting a global model, we can subdivide, or partition, the dataspace into smaller regions. We continue splitting these partitions (which is why it’s called recursive partitioning) until we have manageable chunks of data-space where we can fit simple models. The division of the dataspace is done by features, the same as for a classification tree. <br>\n",
    "\n",
    "Regression trees are a way of representing recursive partitioning. Each of the terminal leaves of the tree represents a final partition, which has attached to it a simple model, as illustrated below. <br>\n",
    "\n",
    "![A regression decision tree for predicting car prices based on horesepower and wheelbase. Each edge contains an inequality indicating the value that feature was split on; for example, if the horsepower was split at 1.3, the two edges would have the inequalities \"less than 1.3\" and \"greater than 1.3\". The leaves (terminal nodes) have the predicted price, and in parenthesis the number of instances arrived at that leaf. The internal nodes have the name of the feature on which the node was split. The caption reads:  Regression tree for predicting price of 1993-model cars. All features\n",
    "have been standardized to have zero mean and unit variance. Note that the order\n",
    "in which variables are examined depends on the answers to previous questions.\n",
    "The numbers in parentheses at the leaves indicate how many cases (data points)\n",
    "belong to each leaf.](img/regression.png)\n",
    "\n",
    "In the above, the word at each node is the feature on which the data is being split. These are continuous features, and the partition is made by choosing a value of that feature at which to split the data. As you can see, Horsepower shows up three times, and each time, a different value is used to make the split.You can get a more intuitive sense of this by looking at the following figure: <br>\n",
    "\n",
    "![A 2 dimensional scatter plot with vertical and horizontal lines partitioning the data. Within each partition is the mean for the quantity of interest of the points within the partition. The caption for the figure reads: The partition of the data implied by the regression tree from Figure 1.\n",
    "Notice that all the dividing lines are parallel to the axes, because each internal\n",
    "node checks whether a single variable is above or below a given value.](img/Partitions.png)\n",
    "\n",
    "When there are more than two features, we are looking for partitions ina higher dimensional space. <br>\n",
    "\n",
    "What are the simple local models? In a classic regression tree, this is just the sample mean of the dependent variable (from the training data) within the given partition. In the decision tree this is represented as \"Price = (some number)\", and in the partition figure, it is the number in red within each partition. This means a classic regression tree is a piecewise-constant model. Since this is easy to calculate once a tree is decided upon, all effort should go into finding the best set of partitions. <br>\n",
    "\n",
    "\n"
   ]
  },
  {
   "cell_type": "markdown",
   "metadata": {},
   "source": [
    "Now that we're familiar with how splits are made in a regression tree, let's talk about the regression version of Gini impurity. It's actually much simpler: it's just Mean Square Error (MSE). This explanation is adapted from [this post](https://towardsdatascience.com/the-mathematics-of-decision-trees-random-forest-and-feature-importance-in-scikit-learn-and-spark-f2861df67e3) on how feature importances are implemented in scikit-learn. <br>\n",
    "\n",
    "**Definition**:\n",
    "\n",
    "$$\\frac{1}{N} \\sum\\limits_{i=1}^N (y_{i} - \\mu)^2$$\n",
    "\n",
    "Where $y_{i}$ is the label for an instance (its value), $N$ is the number of instances and $\\mu$ is the mean given by $\\frac{1}{N} \\sum\\limits_{i=1}^N y_{i}$. In plain english, MSE is the mean of the squared differences (error) between the true value (instance label) and the group mean at the node ($\\mu$), for all instances at the node."
   ]
  },
  {
   "cell_type": "markdown",
   "metadata": {},
   "source": [
    "Let's work through a simple example, using the following tree: \n",
    "\n",
    "![A decision tree where 7 of 10 instances have arrived at node j, the numbers are 1, 3, 4, 5, 8, 9, and the daughter nodes contain 1, 3, 4, and 5, 8, 9, respectively.](img/MSE.png)"
   ]
  },
  {
   "cell_type": "markdown",
   "metadata": {},
   "source": [
    "In order to calculate the MSE of $n_{j}$, we first have to calculate $\\mu$ at $n_{j}$. \n",
    "\n",
    "$$\\mu = \\frac{1+3+4+5+8+9}{6} = 5$$\n",
    "\n",
    "Then, we follow the formula:\n",
    "\n",
    "$$\\frac{1}{6}*((1-5)^2 + (3-5)^2 + (4-5)^2 + (5-5)^2 + (8-5)^2 + (9-5)^2) = 7.67$$"
   ]
  },
  {
   "cell_type": "markdown",
   "metadata": {},
   "source": [
    "What does MSE mean intuitively, after we've worked through the above example? We could say that, at the end of a regression tree, predictions are made using the mean of all instances at the node. Therefore, the difference between a given instance label and the mean at the node is the error, because that’s how far off the prediction for that instance could be. "
   ]
  },
  {
   "cell_type": "markdown",
   "metadata": {},
   "source": [
    "### B. Mean Decrease Impurity\n",
    "We can calculate impurity at nodes now, but so what? How can we use this to evalulate how good our tree is (and later on, our Random Forest model) at classification or regression? We can use Gini impurity and MSE to define something called Mean Decrease Impurity (MDI), which tells us how good a given feature is at helping to classify the data. MDI follows the same procedure for both classification and regression, and just uses different impurity measures."
   ]
  },
  {
   "cell_type": "markdown",
   "metadata": {},
   "source": [
    "#### B.1 The algorithm\n",
    "\n",
    "A short description of how this is implemented in scikit-learn (from the same source above):<br>\n",
    "“Feature importance is calculated as the decrease in node impurity weighted by the probability of reaching that node. The node probability can be calculated by the number of samples that reach the node, divided by the total number of samples. The higher the value the more important the feature.”  <br>\n",
    "\n",
    "What on earth does that mean? Let's break it down into steps. <br>\n",
    "\n",
    "**1. Calculate the importance of each node.**\n",
    "\n",
    "In order to do this, we use the following equation: \n",
    "\n",
    "$$ni_{j} = w_{j} C_{j} -  w_{left(j)} C_{left(j)} -  w_{right(j)} C_{right(j)}$$\n",
    "\n",
    "where <br>\n",
    "$ni_{j}$ = the importance of node $j$ <br>\n",
    "$w_{j}$ = weighted number of samples reaching node $j$ <br>\n",
    "$C_{j}$ = the impurity value of node $j$ (either Gini impurity or MSE) <br>\n",
    "$left(j)$ = child node from the left of the split made at node $j$ <br>\n",
    "$right(j)$ = child node from the right of the split made at node $j$ <br>\n",
    "\n",
    "In plain english: Node importance = (number of samples that reach this node ÷ total number of samples)\\*(Gini impurity of this node) - (number of samples that reach the left child of this node ÷ total number of samples)\\*(Gini impurity of the left child of this node) - (number of samples that reach the right child of this node ÷ total number of samples)\\*(Gini impurity of the right child of this node) <br>\n",
    "\n",
    "**2. Calculate the feature importance within this individual tree.**\n",
    "\n",
    "In order to do this, we use the following:\n",
    "\n",
    "$$fi_{i} = \\frac{\\sum\\limits_{j:\\textrm{node }j \\textrm{ splits on feature }i} ni_{j}}{\\sum\\limits_{k \\in all nodes} ni_{k}}$$\n",
    "\n",
    "where <br>\n",
    "$fi_{i}$ = the importance of feature $i$ <br>\n",
    "\n",
    "In plain english: Feature importance = (the sum of node importances for nodes that split on this feature) ÷ (sum of all node importances) \n",
    "\n",
    "**3. Normalize feature importance.**\n",
    "\n",
    "We normalize feature importances to a value between 0 and 1 by dividing by the sum of all feature importances.\n",
    "\n",
    "**4. Average feature importance across all trees.**\n",
    "\n",
    "Since a Random Forest is made up of many individual decision trees, we get overall feature importance by taking the sum of the importances for that feature, divided by the number of trees."
   ]
  },
  {
   "cell_type": "markdown",
   "metadata": {},
   "source": [
    "#### B.2 Pros and cons of MDI\n",
    "\n",
    "There are many ways to calculate feature importance, more of which you will learn further on in this tutorial. Why should we use MDI? The main reason MDI is so widespread in evaluating Random Forest models, is because it's easy to calculate on-the-go as the model is trained, and doesn't require a lot of extra computational power. However, MDI has a major downfall: it is biased heavily towards variables with multiple splits. <br>\n",
    "\n",
    "Recall how we make our decision trees: we split the data using features. If the feature is binary, for example, Am I Hungry? There's only one way to split the data using that feature. However, if the variable is continuous, like Horsepower, it can be split on any value in its distribution, and will be re-used many times to try out many different splits, even if in reality its not that good at splitting the data. Because MDI is higher for features that are used more often, this artificially biases the feature importance of continuous features, or discrete features with more than two categories, higher than binary features. This is why we have to be wary of MDI as an importance measure, especially if our features are of mixed types. Further explanation can be found [here](https://blog.methodsconsultants.com/posts/be-aware-of-bias-in-rf-variable-importance-metrics/)."
   ]
  },
  {
   "cell_type": "markdown",
   "metadata": {},
   "source": [
    "Now that we know the theory of Mean Decrease Impurity, how do we apply this to our model? <br>\n",
    "\n",
    "scikit-learn automatically calculates feature importances using MDI."
   ]
  },
  {
   "cell_type": "code",
   "execution_count": 22,
   "metadata": {},
   "outputs": [
    {
     "data": {
      "text/plain": [
       "array([0.29335981, 0.31970761, 0.02847384, 0.05192288, 0.07050175,\n",
       "       0.07827273, 0.08667251, 0.07108886])"
      ]
     },
     "execution_count": 22,
     "metadata": {},
     "output_type": "execute_result"
    }
   ],
   "source": [
    "# reminder: search is a BayesSearchCV object, the function used the Pipeline object to make the \"search\" object\n",
    "# self.best_estimator_ is: Estimator that was chosen by the search, \n",
    "# i.e. estimator which gave highest score (or smallest loss if specified) on the left out data.\n",
    "\n",
    "# named steps is a dict, keys are names and values are objects, \n",
    "# they are the steps we included in our Pipeline object\n",
    "# The pipline has 1 imputer and  1 estimator step\n",
    "\n",
    "imputer   = search.best_estimator_.named_steps['imputer']  \n",
    "estimator = search.best_estimator_.named_steps['estimator'] \n",
    "\n",
    "estimator.feature_importances_ # these are the mean importances across the whole Forest"
   ]
  },
  {
   "cell_type": "code",
   "execution_count": 23,
   "metadata": {},
   "outputs": [
    {
     "data": {
      "text/plain": [
       "[Text(0, 0.5, 'Importance'),\n",
       " Text(0.5, 1.0, 'Feature Importance Distributions')]"
      ]
     },
     "execution_count": 23,
     "metadata": {},
     "output_type": "execute_result"
    },
    {
     "data": {
      "image/png": "[encoded data removed]",
      "text/plain": [
       "<Figure size 576x432 with 1 Axes>"
      ]
     },
     "metadata": {},
     "output_type": "display_data"
    }
   ],
   "source": [
    "# tree.feature_importances_ is from scikit learn, so these are MDI importances \n",
    "\n",
    "# get the feature importances from each individual tree and then visualize the distributions as boxplots\n",
    "all_feat_imp_df = pd.DataFrame(data=[tree.feature_importances_ for tree in \n",
    "                                     estimator],\n",
    "                               columns=features)\n",
    "\n",
    "sns.boxplot(data=all_feat_imp_df).set(title='Feature Importance Distributions',\n",
    "             ylabel='Importance')\n"
   ]
  },
  {
   "cell_type": "markdown",
   "metadata": {},
   "source": [
    "As you can see, Forty and Weight are the most important features."
   ]
  },
  {
   "cell_type": "markdown",
   "metadata": {},
   "source": [
    "### C. Mean Decrease Accuracy/Permutation Importance"
   ]
  },
  {
   "cell_type": "markdown",
   "metadata": {},
   "source": [
    "From the [scikit-learn docs](https://scikit-learn.org/stable/modules/permutation_importance.html): <br>\n",
    "\n",
    "\"The permutation feature importance is defined to be the decrease in a model score when a single feature value is randomly shuffled. This procedure breaks the relationship between the feature and the target, thus the drop in the model score is indicative of how much the model depends on the feature. This technique benefits from being model agnostic and can be calculated many times with different permutations of the feature.\""
   ]
  },
  {
   "cell_type": "markdown",
   "metadata": {},
   "source": [
    "Let's use [this tutorial from kaggle](https://www.kaggle.com/dansbecker/permutation-importance) and the scikit-learn docs to break down the above definition. <br>\n",
    "\n",
    "In permutation importance, all we do is scramble one feature, so that the relationship between the instance label and the feature value is random, as seen in the image below. <br>\n",
    "\n",
    "![A table of features, where one column is being scrambled](img/permutation.png)\n",
    "\n",
    "If a feature is important, when we scramble it and lose the relationship that gives the feature its predictive power, we will see a greater *decrease in accuracy*, thus the name Mean Decrease Accuracy (MDA). The greater the loss in performance upon permuting a given feature, the more important that feature is. Since there is randomness in the exact performance change of a model upon shuffling, we repeat the process multiple times on each feature with different shuffles, allowing us to measure the stochastity in our calculation. Strictly speaking, we would expect the MDA for a given feature not to be less than 0, because you wouldn't expect model performance to increase upon permuting a feature. However, negative values are occasionally obtained, and just means that the feature is not very important, and the random shuffling of the data actually *improved* the model performance. <br>\n",
    "\n",
    "One of the great benefits of MDA is that it is *model agnostic*, meaning that it can be applied to models other than decision trees, including difficult-to-interpret black box models. Additionally, it is not biased towards continuous (numerical) features. However, it still gives high importance to features that allow overfitting, even if those features do not contribute to good predictions on unseen data. \n",
    "\n",
    "Additionally, we have to take into account strongly correlated features. Since we permute one feature at a time, if we permute a feature that is highly correlated to another, the model will still be able to make predictions without a large decrease in performance. This is because through the correlation, the model still has access to the feature we've permuted, and results in a lower score for both features, even if they may be important. \n",
    "\n",
    "**One more important thing emphasized by the sciki-learn docs:** <br>\n",
    "\n",
    "\"Note that features that are deemed non-important for some model with a low predictive performance could be highly predictive for a model that generalizes better. The conclusions should always be drawn in the context of the specific model under inspection and cannot be automatically generalized to the intrinsic predictive value of the features by themselves. Therefore it is always important to evaluate the predictive power of a model using a held-out set (or better with cross-validation) prior to computing importances.\" <br>\n",
    "\n",
    "AKA, make sure your model isn't overfit before calculating feature importances!\n",
    "\n"
   ]
  },
  {
   "cell_type": "markdown",
   "metadata": {},
   "source": [
    "We can use the package `eli5` to calculate permutation importance."
   ]
  },
  {
   "cell_type": "code",
   "execution_count": 24,
   "metadata": {},
   "outputs": [
    {
     "name": "stderr",
     "output_type": "stream",
     "text": [
      "/anaconda3/envs/ML_interpretability/lib/python3.8/site-packages/sklearn/utils/deprecation.py:144: FutureWarning: The sklearn.metrics.scorer module is  deprecated in version 0.22 and will be removed in version 0.24. The corresponding classes / functions should instead be imported from sklearn.metrics. Anything that cannot be imported from sklearn.metrics is now part of the private API.\n",
      "  warnings.warn(message, FutureWarning)\n",
      "/anaconda3/envs/ML_interpretability/lib/python3.8/site-packages/sklearn/utils/deprecation.py:144: FutureWarning: The sklearn.feature_selection.base module is  deprecated in version 0.22 and will be removed in version 0.24. The corresponding classes / functions should instead be imported from sklearn.feature_selection. Anything that cannot be imported from sklearn.feature_selection is now part of the private API.\n",
      "  warnings.warn(message, FutureWarning)\n"
     ]
    },
    {
     "data": {
      "text/html": [
       "<div>\n",
       "<style scoped>\n",
       "    .dataframe tbody tr th:only-of-type {\n",
       "        vertical-align: middle;\n",
       "    }\n",
       "\n",
       "    .dataframe tbody tr th {\n",
       "        vertical-align: top;\n",
       "    }\n",
       "\n",
       "    .dataframe thead th {\n",
       "        text-align: right;\n",
       "    }\n",
       "</style>\n",
       "<table border=\"1\" class=\"dataframe\">\n",
       "  <thead>\n",
       "    <tr style=\"text-align: right;\">\n",
       "      <th></th>\n",
       "      <th>feature</th>\n",
       "      <th>weight</th>\n",
       "      <th>std</th>\n",
       "    </tr>\n",
       "  </thead>\n",
       "  <tbody>\n",
       "    <tr>\n",
       "      <th>0</th>\n",
       "      <td>Wt</td>\n",
       "      <td>0.303350</td>\n",
       "      <td>0.032250</td>\n",
       "    </tr>\n",
       "    <tr>\n",
       "      <th>1</th>\n",
       "      <td>Forty</td>\n",
       "      <td>0.237577</td>\n",
       "      <td>0.031657</td>\n",
       "    </tr>\n",
       "    <tr>\n",
       "      <th>2</th>\n",
       "      <td>Cone</td>\n",
       "      <td>0.040714</td>\n",
       "      <td>0.005697</td>\n",
       "    </tr>\n",
       "    <tr>\n",
       "      <th>3</th>\n",
       "      <td>Shuttle</td>\n",
       "      <td>0.036012</td>\n",
       "      <td>0.005826</td>\n",
       "    </tr>\n",
       "    <tr>\n",
       "      <th>4</th>\n",
       "      <td>BroadJump</td>\n",
       "      <td>0.032836</td>\n",
       "      <td>0.005403</td>\n",
       "    </tr>\n",
       "    <tr>\n",
       "      <th>5</th>\n",
       "      <td>BenchReps</td>\n",
       "      <td>0.029503</td>\n",
       "      <td>0.004742</td>\n",
       "    </tr>\n",
       "    <tr>\n",
       "      <th>6</th>\n",
       "      <td>Vertical</td>\n",
       "      <td>0.022869</td>\n",
       "      <td>0.003648</td>\n",
       "    </tr>\n",
       "    <tr>\n",
       "      <th>7</th>\n",
       "      <td>Ht</td>\n",
       "      <td>0.009884</td>\n",
       "      <td>0.001659</td>\n",
       "    </tr>\n",
       "  </tbody>\n",
       "</table>\n",
       "</div>"
      ],
      "text/plain": [
       "     feature    weight       std\n",
       "0         Wt  0.303350  0.032250\n",
       "1      Forty  0.237577  0.031657\n",
       "2       Cone  0.040714  0.005697\n",
       "3    Shuttle  0.036012  0.005826\n",
       "4  BroadJump  0.032836  0.005403\n",
       "5  BenchReps  0.029503  0.004742\n",
       "6   Vertical  0.022869  0.003648\n",
       "7         Ht  0.009884  0.001659"
      ]
     },
     "execution_count": 24,
     "metadata": {},
     "output_type": "execute_result"
    }
   ],
   "source": [
    "import eli5\n",
    "from eli5.sklearn import PermutationImportance\n",
    "# we need to impute the data first before calculating permutation importance\n",
    "train_X_imp = imputer.transform(X)\n",
    "\n",
    "# set up the met-estimator to calculate permutation importance on our training data\n",
    "perm_train = PermutationImportance(estimator, scoring=r2,\n",
    "                                   n_iter=50, random_state=RANDOM_STATE)\n",
    "# fit and see the permuation importances\n",
    "perm_train.fit(train_X_imp, y)\n",
    "eli5.explain_weights_df(perm_train, feature_names=features)"
   ]
  },
  {
   "cell_type": "code",
   "execution_count": 25,
   "metadata": {},
   "outputs": [
    {
     "data": {
      "image/png": "[encoded data removed]",
      "text/plain": [
       "<Figure size 576x432 with 1 Axes>"
      ]
     },
     "metadata": {},
     "output_type": "display_data"
    }
   ],
   "source": [
    "# plot the distributions\n",
    "perm_train_feat_imp_df = pd.DataFrame(data=perm_train.results_,\n",
    "                                      columns=features)\n",
    "(sns.boxplot(data=perm_train_feat_imp_df)\n",
    "        .set(title='Permutation Importance Distributions (training data)',\n",
    "             ylabel='Importance'));"
   ]
  },
  {
   "cell_type": "markdown",
   "metadata": {},
   "source": [
    "### D. Pros and Cons\n",
    "\n",
    "We've already discussed some of the pros and cons of each method, but now let's take a look at the two methods side by side. \n",
    "\n",
    "| Attribute | Mean Decrease Impurity| Mean Decrease Accuracy (Permutation Importance) |\n",
    "|:------:|:------:|:------:|\n",
    "|Model agnostic?|N|Y|\n",
    "|Biased towards continous features?|Y|N|\n",
    "|Speed/convenience?|Calculated on-the-go|Need to retrain model for each permutation|\n",
    "|Susceptible to correlated features?|[?](https://www.sciencedirect.com/science/article/pii/S0167947307003076?casa_token=3vWzXmNdC0MAAAAA:6Ugu68jnWcU_yZgRMXCyceRNHMDQA3HE2PHKflheLrciLIBZykiYEZNjAwa0GdczMGket24vCfg)|Y|\n",
    "\n",
    "As you can see, the main advantage of Gini importance is that it's quick to calculate. However, if you need accurate feature importances for a set of features that are of mixed type, permutation importance is the way to go, even though it takes more time."
   ]
  },
  {
   "cell_type": "code",
   "execution_count": 26,
   "metadata": {},
   "outputs": [],
   "source": [
    "## TODO double check the information in this table"
   ]
  },
  {
   "cell_type": "markdown",
   "metadata": {},
   "source": [
    "In this section, we've talked about feature importances, whose values indicate how important a given feature is for the model's performance. However, it's not necessarily intuitive basedon feature importances alone, how our model made its decisions or predictions. In order to have a better idea about how specific predictions were made, we'll use something called *feature contributions*."
   ]
  },
  {
   "cell_type": "markdown",
   "metadata": {},
   "source": [
    "## 3. Evaluate Feature Contributions\n",
    "\n",
    "In this section you will learn about: <br>\n",
    "A. The mathematics of calculating feature contributions (The mathematics of feature contributions)<br>\n",
    "B. The intuitive explanation of feature contributions (So what does this actually mean?)<br>\n",
    "C. How to apply these concepts to real data (Applying feature contributions)<br>\n",
    "D. How to visualize the interpretation obtained in C. (Visualizing feature contributions)<br>"
   ]
  },
  {
   "cell_type": "markdown",
   "metadata": {},
   "source": [
    "### A. The mathematics of feature contributions\n",
    "\n",
    "This section is adapted from [this paper](https://arxiv.org/pdf/1312.1121.pdf) on feature contributions, and will take a decently deep dive into the math behind the Random Forest tree growing and decision process as well as that of calculating feature contributions. If you want to skip the math but get the general idea of what's going on, skip to the section: **B. So what does this actually mean?** <br> \n",
    "\n",
    "#### A.1 Understanding classification models\n",
    "\n",
    "In order to understand feature contributions, we first have to understand how Random Forest works. The first part of this section is dedicated to understanding this process for classification models. <br>\n",
    "\n",
    "In section 2, we went over how classification and regression trees (CART) work, and briefly mentioned how they are combined together in an ensemble to make a Random Forest. But what is actually happening? In short, during training/tree building, each decision tree in the forest only has access to a random subset of the data, and only a random subset of the features. In order to make a prediction, the individual trees all make a decision, and the final classification is decided upon by a vote. In essence, a bunch of crappy trees making a collective decision has better performance than one really good tree. If you are interested in a probabalistic mathematical explanation of how this works, please see the section **Probabalistic Interpretation of Classification Random Forest Models** in the supplemental.<br>"
   ]
  },
  {
   "cell_type": "markdown",
   "metadata": {},
   "source": [
    "Now let's talk briefly about the proecss of *growing* a decision tree. In a Random Forest, each tree has access to only a random subset of the training data and a random subset of features. Once that training set is selected, a feature is used to split the data. The instances that arrive at a particular node after being split at a parent node are called *training instances*. This process is repeated iteratively until Gini impurity at the latest node is 0 (all instances at the node are of the same class), or further splitting doesn't improve the classification. "
   ]
  },
  {
   "cell_type": "markdown",
   "metadata": {},
   "source": [
    "**NOTE TO SELF:** *if there are only two classes, won't one of them always have a probability of more than 0.5 at any node in the tree? If so, how is any terminal node used to classify C2? \"We will refer to instances of the local training set that pass through a given node as the training instances in this node. The fraction of the training instances in a node n belonging to class C1 will be denoted by Ynmean. This is the probability that a randomly selected element from the training instances in this node is in the first class. In particular, a terminal node is assigned to class C1 if Ynmean > 0.5 or Ynmean = 0.5 and the draw is resolved in favor of class C1.\"* <br> \n",
    "\n",
    "*Is this just what happens at terminal nodes where further splitting won't improve prediction? How does the algorithm know that further splitting won't improve the prediction? * <-- taking this as the ans"
   ]
  },
  {
   "cell_type": "code",
   "execution_count": 27,
   "metadata": {},
   "outputs": [],
   "source": [
    "## TODO make sure the above is correct and if not, change the explanation below "
   ]
  },
  {
   "cell_type": "markdown",
   "metadata": {},
   "source": [
    "If the Gini impurity of a node is 0, then we classify all instances arriving at that node according to whatever class all of those training instances at the terminal node belong to. But what happens if Gini impurity isn't 0, and further splitting doesn't improve the classification? "
   ]
  },
  {
   "cell_type": "markdown",
   "metadata": {},
   "source": [
    "At a given node $n$, the fraction of training instances belonging to class $C_{1}$ is denoted by $Y^{n}_{mean}$. This represents the probability that a randomly selected training instance at that node is of class $C_{1}$. If we've come to a terminal node that is impure, where further splitting won't improve our classification, this value is used to determine how that terminal node will classify any instances that arrive there by following the tree. If $Y^{n}_{mean} > 0.5$, that node will classify instanceas as $C_{1}$, or if $Y^{n}_{mean} == 0.5$ (a draw, since there are only two classes) and the draw is resolved (randomly) in favor of $C_{1}$. "
   ]
  },
  {
   "cell_type": "markdown",
   "metadata": {},
   "source": [
    "Great! Now that we know how trees are built and how instances are classified, let's talk about feature contributions."
   ]
  },
  {
   "cell_type": "markdown",
   "metadata": {},
   "source": [
    "#### A.2 Feature Contributions: Classification\n",
    "\n",
    "In order to determine the feature contribution for a given instance predicted by a Random Forest, we have to follow two steps. First, we have to look at local feature contributions for each individual tree, and then second, aggregate them over the Forest. <br> \n",
    "\n",
    "Local contributions are determined using the following. First, we calculate the local increment for a \n",
    "\n",
    "$$ LI^{c}_{f} =   \\left\\{\n",
    "\\begin{array}{ll}\n",
    "      Y^{c}_{mean} - Y^{p}_{mean} & \\textrm{if the split in the parent\n",
    "is performed over the\n",
    "feature f} \\\\\n",
    "      0 & \\textrm{otherwise} \\\\\n",
    "\\end{array} \n",
    "\\right. $$\n",
    "\n",
    "where $LI^{c}_{f}$ is the local increment of feature $f$ at node $c$. A local increment can be intuitively thought of as the contribution a feature makes at a node towards correctly classifying an instance. In fact, if we look at the $Y_{mean}$ of the root of the tree, and the $Y_{mean}$ of a terminal node for an instance that ends up at that terminal node, we can see that the sum of the local increments for all nodes along that path is equal to the difference between the two $Y_{mean}$s -- which shows that those increments are directly responsible for the classification at the end of the tree. <br> \n",
    "\n",
    "For a given feature $f$, we can now calculate that feature's contribution to the prediction of a given instance $i$, by summing the $LI_{f}$ over the whole decision path for $i$:\n",
    "\n",
    "$$FC^{f}_{i,t} = \\sum\\limits_{s = 0}^S LI_{f}$$\n",
    "\n",
    "where $FC^{f}_{i,t}$ is the contribution of feature $f$ to predicting istance $i$ in a given tree $t$, and $S$ is the number of splits in the decision path. "
   ]
  },
  {
   "cell_type": "markdown",
   "metadata": {},
   "source": [
    "Now that we have our local contributions in individual trees, we have to aggregate them over the Forest. This is done using the following formula: \n",
    "\n",
    "$$FC^{f}_{i} = \\frac{1}{T} \\sum\\limits_{t=1}^T FC^{f}_{i,t}$$\n",
    "\n",
    "where $FC^{f}_{i}$ is the feature contribution of feature $f$ over the whole Forest to predicting instance $i$, and $T$ is the number of trees in the forest. We can then make a feature contributions vector for instance $i$, which is just a vector of $FC^{f}_{i}$ for all features used in the model. "
   ]
  },
  {
   "cell_type": "markdown",
   "metadata": {},
   "source": [
    "The last thing we need to mention here is something called the *unanimity condition*. This is when all terminal nodes in a tree or Forest are pure -- all training instances that have arrived to a given terminal node are of the same class. When this condition holds, we can use the feature contributions to recover the predictions in the model. Since this is only relevant to classification models, and in this tutorial we're dealing with a regression problem, further explanation can be found in the Supplemental, in the section **The Unanimity Condition: Using feature contributions to retrieve model predictions**."
   ]
  },
  {
   "cell_type": "markdown",
   "metadata": {},
   "source": [
    "#### A.3 Feature Contributions: Regressions\n",
    "\n",
    "Now that's great, you're thinking, but what about regression trees? The method for computing feature contributions for a regression tree or Random Forest regression is analagous to that of a classification, with some slight differences. This section is adapted from the description found in [this blog post](http://blog.datadive.net/interpreting-random-forests/), which the module `treeinterpreter` is based on.<br>\n",
    "\n",
    "The main difference is that for a regression, $Y^{n}_{mean}$, rather than being the fraction of training instances belonging to a given class, is just the mean of the training instances at a given node. For example, if a node has instances with the labels $(3,4,6,7)$, then the $Y^{n}_{mean}$ for that node is $5$. <br>\n",
    "\n",
    "Therefore, the process is exactly the same as for classifications -- except that $LI^{c}_{f}$ represents the difference in mean of the training samples at two nodes, rather than the difference in probability of correct classification at a node. <br>\n",
    "\n",
    "This also means we can use feature contributions to directly recover the predictions made by the model, since the feature contributions along a given decision path represent the change in mean (what we can think of as our prediction, since the mean at the terminal node is the prediction) from the previous to the current node. The equation that represents this is as follows: \n",
    "\n",
    "$$f(x) = c_{full} + \\sum\\limits^{K}_{k=1} contrib(x,k)$$\n",
    "\n",
    "where $f(x)$ is our prediction, $c_{full}$ is the mean of all training instances at the root node, and $contrib(x,k)$ is the contribution of feature $k$ to the prediction of instance $x$. If we were to do this for a whole forest, we would simply be using the mean of the means at all root nodes, and the average contributions of features across the forest."
   ]
  },
  {
   "cell_type": "markdown",
   "metadata": {},
   "source": [
    "### B. So what does this actually mean?"
   ]
  },
  {
   "cell_type": "markdown",
   "metadata": {},
   "source": [
    "Let's put this all together. We can represent the process of calculating feature contributions with the following schematic: \n",
    "\n",
    "![visual representation of feature contribution calculation](img/featureContributions.png)"
   ]
  },
  {
   "cell_type": "markdown",
   "metadata": {},
   "source": [
    "For an instance $i$, we follow its decision path through the tree and calculate local increments at each node on the path. If the feature of interest, $f$, splits the node, the node receives a local increment that is greater than 1, the calculation of which can be found in the previous section. If the node is split over some other feature, the local increment is 0. We then sum up these local increments for the entire decision path, which gives us the feature contribution for this tree. We do this for every tree in the Forest, and then average the feature contributions, in order to get the overall feature contribution to the prediction made by the Forest.\n",
    "\n",
    "This general schematic holds for both regressions and classification problems, the only difference is the way of calculating the local increment at each node. "
   ]
  },
  {
   "cell_type": "markdown",
   "metadata": {},
   "source": [
    "### C. Applying feature contributions"
   ]
  },
  {
   "cell_type": "markdown",
   "metadata": {},
   "source": [
    "First, let's import all the modules we'll need in this section."
   ]
  },
  {
   "cell_type": "code",
   "execution_count": 35,
   "metadata": {},
   "outputs": [],
   "source": [
    "###################### tree graphs ##################\n",
    "from IPython.display import Image  \n",
    "from sklearn.tree import export_graphviz\n",
    "import graphviz\n",
    "import pydotplus\n",
    "from io import StringIO \n",
    "########## feature contributions for instances ##########\n",
    "from concurrent.futures import ProcessPoolExecutor"
   ]
  },
  {
   "cell_type": "code",
   "execution_count": 29,
   "metadata": {},
   "outputs": [
    {
     "data": {
      "text/plain": [
       "1"
      ]
     },
     "execution_count": 29,
     "metadata": {},
     "output_type": "execute_result"
    }
   ],
   "source": [
    "# we can get individual trees directly from sklearn\n",
    "# get all trees with depth == 3:\n",
    "depth3 = [tree for tree in estimator.estimators_ if tree.tree_.max_depth==3]\n",
    "len(depth3)"
   ]
  },
  {
   "cell_type": "code",
   "execution_count": 32,
   "metadata": {},
   "outputs": [
    {
     "data": {
      "image/png": "[encoded data removed]",
      "text/plain": [
       "<IPython.core.display.Image object>"
      ]
     },
     "execution_count": 32,
     "metadata": {},
     "output_type": "execute_result"
    }
   ],
   "source": [
    "tree = depth3[0]\n",
    "dot_data = StringIO()\n",
    "export_graphviz(tree, out_file=dot_data, feature_names=features, \n",
    "                filled=True, rounded=True, special_characters=True)\n",
    "graph = pydotplus.graph_from_dot_data(dot_data.getvalue())  \n",
    "Image(graph.create_png())"
   ]
  },
  {
   "cell_type": "markdown",
   "metadata": {},
   "source": [
    "In this graph, the quantities displayed at each node are as follows:\n",
    "1. ** *feature* $\\leq$ *some number*:** this is the feature that the node was split on, and the value at which it was split. Since these are all continuous features, we're splitting at some value of that feature. The arrows from the first node say *True* and *False*, so instances with a feature value less than the number go to the left, greater go to the right.\n",
    "2. **mse**: This is the mean standard error at the node; the error that we used to calculate Mean Decrease Impurity (MDI) for regression trees in section 2B.\n",
    "3. **samples**: this is the number of samples that arrived to the node.\n",
    "4. **value**: this is the mean of the labels for all instances at the node -- AKA $Y_{mean}$.\n",
    "\n",
    "In this graph, terminal nodes don't have a feature in them, since there aren't any subsequent splits to be performed."
   ]
  },
  {
   "cell_type": "markdown",
   "metadata": {},
   "source": [
    "For the next steps, we're going to use the function `ProcessPoolExecutor` to perform some tasks in parallel. The following function just allows us to perform tasks in parallel over an iteratable object:"
   ]
  },
  {
   "cell_type": "code",
   "execution_count": 33,
   "metadata": {},
   "outputs": [],
   "source": [
    "def multiproc_iter_func(max_workers, an_iter, func, item_kwarg, **kwargs):\n",
    "    \"\"\"\n",
    "    A helper functions that applies a function to each item in an iterable using\n",
    "    multiple processes. 'item_kwarg' is the keyword argument for the item in the\n",
    "    iterable that we pass to the function.\n",
    "    \"\"\"\n",
    "    with ProcessPoolExecutor(max_workers=max_workers) as executor:\n",
    "        future_results = [executor.submit(func, **{item_kwarg: item}, **kwargs)\n",
    "                          for item in an_iter]\n",
    "        results = [future.result() for future in future_results]\n",
    "    return results"
   ]
  },
  {
   "cell_type": "markdown",
   "metadata": {},
   "source": [
    "Now we'll take a look at the feature contributions for individual instances in the training set. Reminder: we defined N_JOBS and train_X_imp awhile ago. N_JOBS is the number of parallel processes we want, and train_X_imp is just the imputed training data (features)."
   ]
  },
  {
   "cell_type": "code",
   "execution_count": 36,
   "metadata": {},
   "outputs": [],
   "source": [
    "train_expl_list = multiproc_iter_func(N_JOBS, train_X_imp, \n",
    "                                      eli5.explain_prediction_df, 'doc',\n",
    "                                      estimator=estimator, \n",
    "                                      feature_names=features)"
   ]
  },
  {
   "cell_type": "markdown",
   "metadata": {},
   "source": [
    "We now have to concatonate the results from the various parallel processes into one large dataframe, making the players' names the index, then we can take a look:"
   ]
  },
  {
   "cell_type": "code",
   "execution_count": 37,
   "metadata": {},
   "outputs": [],
   "source": [
    "train_expl_df = pd.concat(train_expl_list, keys=train_df.Player, \n",
    "                          names=['Player'])"
   ]
  },
  {
   "cell_type": "code",
   "execution_count": 38,
   "metadata": {
    "scrolled": true
   },
   "outputs": [
    {
     "data": {
      "text/html": [
       "<div>\n",
       "<style scoped>\n",
       "    .dataframe tbody tr th:only-of-type {\n",
       "        vertical-align: middle;\n",
       "    }\n",
       "\n",
       "    .dataframe tbody tr th {\n",
       "        vertical-align: top;\n",
       "    }\n",
       "\n",
       "    .dataframe thead th {\n",
       "        text-align: right;\n",
       "    }\n",
       "</style>\n",
       "<table border=\"1\" class=\"dataframe\">\n",
       "  <thead>\n",
       "    <tr style=\"text-align: right;\">\n",
       "      <th></th>\n",
       "      <th></th>\n",
       "      <th>target</th>\n",
       "      <th>feature</th>\n",
       "      <th>weight</th>\n",
       "      <th>value</th>\n",
       "    </tr>\n",
       "    <tr>\n",
       "      <th>Player</th>\n",
       "      <th></th>\n",
       "      <th></th>\n",
       "      <th></th>\n",
       "      <th></th>\n",
       "      <th></th>\n",
       "    </tr>\n",
       "  </thead>\n",
       "  <tbody>\n",
       "    <tr>\n",
       "      <th rowspan=\"9\" valign=\"top\">Michael Boireau</th>\n",
       "      <th>0</th>\n",
       "      <td>y</td>\n",
       "      <td>&lt;BIAS&gt;</td>\n",
       "      <td>0.421845</td>\n",
       "      <td>1.00</td>\n",
       "    </tr>\n",
       "    <tr>\n",
       "      <th>1</th>\n",
       "      <td>y</td>\n",
       "      <td>Wt</td>\n",
       "      <td>0.050429</td>\n",
       "      <td>274.00</td>\n",
       "    </tr>\n",
       "    <tr>\n",
       "      <th>2</th>\n",
       "      <td>y</td>\n",
       "      <td>BenchReps</td>\n",
       "      <td>0.009301</td>\n",
       "      <td>26.00</td>\n",
       "    </tr>\n",
       "    <tr>\n",
       "      <th>3</th>\n",
       "      <td>y</td>\n",
       "      <td>Ht</td>\n",
       "      <td>-0.001152</td>\n",
       "      <td>76.00</td>\n",
       "    </tr>\n",
       "    <tr>\n",
       "      <th>4</th>\n",
       "      <td>y</td>\n",
       "      <td>Vertical</td>\n",
       "      <td>-0.002914</td>\n",
       "      <td>29.00</td>\n",
       "    </tr>\n",
       "    <tr>\n",
       "      <th>5</th>\n",
       "      <td>y</td>\n",
       "      <td>Shuttle</td>\n",
       "      <td>-0.006204</td>\n",
       "      <td>4.49</td>\n",
       "    </tr>\n",
       "    <tr>\n",
       "      <th>6</th>\n",
       "      <td>y</td>\n",
       "      <td>BroadJump</td>\n",
       "      <td>-0.011278</td>\n",
       "      <td>105.00</td>\n",
       "    </tr>\n",
       "    <tr>\n",
       "      <th>7</th>\n",
       "      <td>y</td>\n",
       "      <td>Cone</td>\n",
       "      <td>-0.019489</td>\n",
       "      <td>7.68</td>\n",
       "    </tr>\n",
       "    <tr>\n",
       "      <th>8</th>\n",
       "      <td>y</td>\n",
       "      <td>Forty</td>\n",
       "      <td>-0.110280</td>\n",
       "      <td>5.09</td>\n",
       "    </tr>\n",
       "    <tr>\n",
       "      <th rowspan=\"9\" valign=\"top\">Courtney Brown</th>\n",
       "      <th>0</th>\n",
       "      <td>y</td>\n",
       "      <td>&lt;BIAS&gt;</td>\n",
       "      <td>0.421845</td>\n",
       "      <td>1.00</td>\n",
       "    </tr>\n",
       "    <tr>\n",
       "      <th>1</th>\n",
       "      <td>y</td>\n",
       "      <td>Forty</td>\n",
       "      <td>0.023770</td>\n",
       "      <td>4.78</td>\n",
       "    </tr>\n",
       "    <tr>\n",
       "      <th>2</th>\n",
       "      <td>y</td>\n",
       "      <td>BenchReps</td>\n",
       "      <td>0.014490</td>\n",
       "      <td>24.00</td>\n",
       "    </tr>\n",
       "    <tr>\n",
       "      <th>3</th>\n",
       "      <td>y</td>\n",
       "      <td>Shuttle</td>\n",
       "      <td>0.009883</td>\n",
       "      <td>4.32</td>\n",
       "    </tr>\n",
       "    <tr>\n",
       "      <th>4</th>\n",
       "      <td>y</td>\n",
       "      <td>Cone</td>\n",
       "      <td>-0.003600</td>\n",
       "      <td>7.50</td>\n",
       "    </tr>\n",
       "    <tr>\n",
       "      <th>5</th>\n",
       "      <td>y</td>\n",
       "      <td>Vertical</td>\n",
       "      <td>-0.006819</td>\n",
       "      <td>33.00</td>\n",
       "    </tr>\n",
       "    <tr>\n",
       "      <th>6</th>\n",
       "      <td>y</td>\n",
       "      <td>Ht</td>\n",
       "      <td>-0.008398</td>\n",
       "      <td>77.00</td>\n",
       "    </tr>\n",
       "    <tr>\n",
       "      <th>7</th>\n",
       "      <td>y</td>\n",
       "      <td>BroadJump</td>\n",
       "      <td>-0.013140</td>\n",
       "      <td>111.00</td>\n",
       "    </tr>\n",
       "    <tr>\n",
       "      <th>8</th>\n",
       "      <td>y</td>\n",
       "      <td>Wt</td>\n",
       "      <td>-0.037293</td>\n",
       "      <td>269.00</td>\n",
       "    </tr>\n",
       "  </tbody>\n",
       "</table>\n",
       "</div>"
      ],
      "text/plain": [
       "                  target    feature    weight   value\n",
       "Player                                               \n",
       "Michael Boireau 0      y     <BIAS>  0.421845    1.00\n",
       "                1      y         Wt  0.050429  274.00\n",
       "                2      y  BenchReps  0.009301   26.00\n",
       "                3      y         Ht -0.001152   76.00\n",
       "                4      y   Vertical -0.002914   29.00\n",
       "                5      y    Shuttle -0.006204    4.49\n",
       "                6      y  BroadJump -0.011278  105.00\n",
       "                7      y       Cone -0.019489    7.68\n",
       "                8      y      Forty -0.110280    5.09\n",
       "Courtney Brown  0      y     <BIAS>  0.421845    1.00\n",
       "                1      y      Forty  0.023770    4.78\n",
       "                2      y  BenchReps  0.014490   24.00\n",
       "                3      y    Shuttle  0.009883    4.32\n",
       "                4      y       Cone -0.003600    7.50\n",
       "                5      y   Vertical -0.006819   33.00\n",
       "                6      y         Ht -0.008398   77.00\n",
       "                7      y  BroadJump -0.013140  111.00\n",
       "                8      y         Wt -0.037293  269.00"
      ]
     },
     "execution_count": 38,
     "metadata": {},
     "output_type": "execute_result"
    }
   ],
   "source": [
    "train_expl_df.head(18)"
   ]
  },
  {
   "cell_type": "markdown",
   "metadata": {},
   "source": [
    "**NOTE TO SELF:** *I would really like to be able to confirm what  method eli5 is using to get feature contributions here. I believe I can so this using `eli5.explain_prediction()`, however, I can't get that to run. This strikes me as odd, because `explain_prediction_df()` supposedly just passes everything you give it to `explain_prediction()`. Return to this at some point to see if you can figure it out -- necessary because `explain_prediction()` doesn't always do the same thing, it depends on estimator type, and in the original version of the tutorial the same function was used to get the overall feature importances. I'd like to know what's going on under the hood.* <br>\n",
    "\n",
    "*I would also like to know what the `target` column is supposed to mean, and what the difference between `weight` and `value` is -- which one represent the contribution? Presumably, since the `<BIAS>` has the same value for all instances, the value is the contribution. But then what is the `weight` column? docs not illuminating on this front.*"
   ]
  },
  {
   "cell_type": "markdown",
   "metadata": {},
   "source": [
    "We can now do the same thing for the testing data. We just need to impute the testing data first."
   ]
  },
  {
   "cell_type": "code",
   "execution_count": 49,
   "metadata": {
    "scrolled": true
   },
   "outputs": [
    {
     "data": {
      "text/html": [
       "<div>\n",
       "<style scoped>\n",
       "    .dataframe tbody tr th:only-of-type {\n",
       "        vertical-align: middle;\n",
       "    }\n",
       "\n",
       "    .dataframe tbody tr th {\n",
       "        vertical-align: top;\n",
       "    }\n",
       "\n",
       "    .dataframe thead th {\n",
       "        text-align: right;\n",
       "    }\n",
       "</style>\n",
       "<table border=\"1\" class=\"dataframe\">\n",
       "  <thead>\n",
       "    <tr style=\"text-align: right;\">\n",
       "      <th></th>\n",
       "      <th></th>\n",
       "      <th>target</th>\n",
       "      <th>feature</th>\n",
       "      <th>weight</th>\n",
       "      <th>value</th>\n",
       "    </tr>\n",
       "    <tr>\n",
       "      <th>Player</th>\n",
       "      <th></th>\n",
       "      <th></th>\n",
       "      <th></th>\n",
       "      <th></th>\n",
       "      <th></th>\n",
       "    </tr>\n",
       "  </thead>\n",
       "  <tbody>\n",
       "    <tr>\n",
       "      <th rowspan=\"9\" valign=\"top\">Frank Alexander</th>\n",
       "      <th>0</th>\n",
       "      <td>y</td>\n",
       "      <td>&lt;BIAS&gt;</td>\n",
       "      <td>0.421845</td>\n",
       "      <td>1.00</td>\n",
       "    </tr>\n",
       "    <tr>\n",
       "      <th>1</th>\n",
       "      <td>y</td>\n",
       "      <td>Forty</td>\n",
       "      <td>0.026198</td>\n",
       "      <td>4.80</td>\n",
       "    </tr>\n",
       "    <tr>\n",
       "      <th>2</th>\n",
       "      <td>y</td>\n",
       "      <td>BenchReps</td>\n",
       "      <td>0.017135</td>\n",
       "      <td>24.00</td>\n",
       "    </tr>\n",
       "    <tr>\n",
       "      <th>3</th>\n",
       "      <td>y</td>\n",
       "      <td>Wt</td>\n",
       "      <td>0.008046</td>\n",
       "      <td>270.00</td>\n",
       "    </tr>\n",
       "    <tr>\n",
       "      <th>4</th>\n",
       "      <td>y</td>\n",
       "      <td>Shuttle</td>\n",
       "      <td>0.002937</td>\n",
       "      <td>4.32</td>\n",
       "    </tr>\n",
       "    <tr>\n",
       "      <th>5</th>\n",
       "      <td>y</td>\n",
       "      <td>Cone</td>\n",
       "      <td>-0.001353</td>\n",
       "      <td>7.50</td>\n",
       "    </tr>\n",
       "    <tr>\n",
       "      <th>6</th>\n",
       "      <td>y</td>\n",
       "      <td>Ht</td>\n",
       "      <td>-0.006382</td>\n",
       "      <td>76.00</td>\n",
       "    </tr>\n",
       "    <tr>\n",
       "      <th>7</th>\n",
       "      <td>y</td>\n",
       "      <td>Vertical</td>\n",
       "      <td>-0.006856</td>\n",
       "      <td>33.00</td>\n",
       "    </tr>\n",
       "    <tr>\n",
       "      <th>8</th>\n",
       "      <td>y</td>\n",
       "      <td>BroadJump</td>\n",
       "      <td>-0.012925</td>\n",
       "      <td>111.00</td>\n",
       "    </tr>\n",
       "    <tr>\n",
       "      <th rowspan=\"9\" valign=\"top\">Jake Bequette</th>\n",
       "      <th>0</th>\n",
       "      <td>y</td>\n",
       "      <td>&lt;BIAS&gt;</td>\n",
       "      <td>0.421845</td>\n",
       "      <td>1.00</td>\n",
       "    </tr>\n",
       "    <tr>\n",
       "      <th>1</th>\n",
       "      <td>y</td>\n",
       "      <td>Wt</td>\n",
       "      <td>0.061556</td>\n",
       "      <td>274.00</td>\n",
       "    </tr>\n",
       "    <tr>\n",
       "      <th>2</th>\n",
       "      <td>y</td>\n",
       "      <td>Forty</td>\n",
       "      <td>0.042826</td>\n",
       "      <td>4.75</td>\n",
       "    </tr>\n",
       "    <tr>\n",
       "      <th>3</th>\n",
       "      <td>y</td>\n",
       "      <td>Cone</td>\n",
       "      <td>0.042051</td>\n",
       "      <td>6.90</td>\n",
       "    </tr>\n",
       "    <tr>\n",
       "      <th>4</th>\n",
       "      <td>y</td>\n",
       "      <td>BenchReps</td>\n",
       "      <td>0.013871</td>\n",
       "      <td>24.00</td>\n",
       "    </tr>\n",
       "    <tr>\n",
       "      <th>5</th>\n",
       "      <td>y</td>\n",
       "      <td>Shuttle</td>\n",
       "      <td>0.012331</td>\n",
       "      <td>4.07</td>\n",
       "    </tr>\n",
       "    <tr>\n",
       "      <th>6</th>\n",
       "      <td>y</td>\n",
       "      <td>BroadJump</td>\n",
       "      <td>0.007751</td>\n",
       "      <td>113.00</td>\n",
       "    </tr>\n",
       "    <tr>\n",
       "      <th>7</th>\n",
       "      <td>y</td>\n",
       "      <td>Vertical</td>\n",
       "      <td>-0.000525</td>\n",
       "      <td>34.00</td>\n",
       "    </tr>\n",
       "    <tr>\n",
       "      <th>8</th>\n",
       "      <td>y</td>\n",
       "      <td>Ht</td>\n",
       "      <td>-0.001877</td>\n",
       "      <td>77.00</td>\n",
       "    </tr>\n",
       "  </tbody>\n",
       "</table>\n",
       "</div>"
      ],
      "text/plain": [
       "                  target    feature    weight   value\n",
       "Player                                               \n",
       "Frank Alexander 0      y     <BIAS>  0.421845    1.00\n",
       "                1      y      Forty  0.026198    4.80\n",
       "                2      y  BenchReps  0.017135   24.00\n",
       "                3      y         Wt  0.008046  270.00\n",
       "                4      y    Shuttle  0.002937    4.32\n",
       "                5      y       Cone -0.001353    7.50\n",
       "                6      y         Ht -0.006382   76.00\n",
       "                7      y   Vertical -0.006856   33.00\n",
       "                8      y  BroadJump -0.012925  111.00\n",
       "Jake Bequette   0      y     <BIAS>  0.421845    1.00\n",
       "                1      y         Wt  0.061556  274.00\n",
       "                2      y      Forty  0.042826    4.75\n",
       "                3      y       Cone  0.042051    6.90\n",
       "                4      y  BenchReps  0.013871   24.00\n",
       "                5      y    Shuttle  0.012331    4.07\n",
       "                6      y  BroadJump  0.007751  113.00\n",
       "                7      y   Vertical -0.000525   34.00\n",
       "                8      y         Ht -0.001877   77.00"
      ]
     },
     "execution_count": 49,
     "metadata": {},
     "output_type": "execute_result"
    }
   ],
   "source": [
    "# impute:\n",
    "test_X_imp = imputer.transform(X_test)\n",
    "\n",
    "# get feature contributions\n",
    "test_expl_list = multiproc_iter_func(N_JOBS, test_X_imp, \n",
    "                                     eli5.explain_prediction_df, 'doc', \n",
    "                                     estimator=estimator,\n",
    "                                     feature_names=features)\n",
    "# concatonate\n",
    "test_expl_df = pd.concat(test_expl_list, keys=test_df.Player, \n",
    "                         names=['Player'])\n",
    "#show the first 18 rows\n",
    "test_expl_df.head(18)"
   ]
  },
  {
   "cell_type": "markdown",
   "metadata": {},
   "source": [
    "### D. Visualizing feature contributions\n",
    "\n",
    "Having the numbers is all well and good -- but how are we supposed to make any sense of what we've just learned? If we were interested in an individual prediction, we could look at the feature contributions, determining which order of features and with what importance helped the model come to a decision. But what if we want to take a step back, and look more globally at the model? This is a good intermediate level of interpretation between global feature importances, which aren't necessarily informative, and using feature contributions to analyze individual predictions. This section demonstrates some graphing solutions that allow us to take this kind of look."
   ]
  },
  {
   "cell_type": "markdown",
   "metadata": {},
   "source": [
    "#### D.1 Feature contribution distributions\n",
    "\n",
    "There are two plotting methods in this section. One is a traditional boxplot, and the other id a dot plot, which gives us a better view of the ditributions"
   ]
  }
 ],
 "metadata": {
  "kernelspec": {
   "display_name": "Python [conda env:ML_interpretability]",
   "language": "python",
   "name": "conda-env-ML_interpretability-py"
  },
  "language_info": {
   "codemirror_mode": {
    "name": "ipython",
    "version": 3
   },
   "file_extension": ".py",
   "mimetype": "text/x-python",
   "name": "python",
   "nbconvert_exporter": "python",
   "pygments_lexer": "ipython3",
   "version": "3.8.2"
  }
 },
 "nbformat": 4,
 "nbformat_minor": 2
}
